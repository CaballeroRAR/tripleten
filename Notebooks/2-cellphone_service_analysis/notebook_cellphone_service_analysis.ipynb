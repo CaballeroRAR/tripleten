{
 "cells": [
  {
   "cell_type": "markdown",
   "metadata": {},
   "source": [
    "Hola **Edgar**!\n",
    "\n",
    "Soy **Patricio Requena** 👋. Es un placer ser el revisor de tu proyecto el día de hoy!\n",
    "\n",
    "Revisaré tu proyecto detenidamente con el objetivo de ayudarte a mejorar y perfeccionar tus habilidades. Durante mi revisión, identificaré áreas donde puedas hacer mejoras en tu código, señalando específicamente qué y cómo podrías ajustar para optimizar el rendimiento y la claridad de tu proyecto. Además, es importante para mí destacar los aspectos que has manejado excepcionalmente bien. Reconocer tus fortalezas te ayudará a entender qué técnicas y métodos están funcionando a tu favor y cómo puedes aplicarlos en futuras tareas. \n",
    "\n",
    "_**Recuerda que al final de este notebook encontrarás un comentario general de mi parte**_, empecemos!\n",
    "\n",
    "Encontrarás mis comentarios dentro de cajas verdes, amarillas o rojas, ⚠️ **por favor, no muevas, modifiques o borres mis comentarios** ⚠️:\n",
    "\n",
    "\n",
    "<div class=\"alert alert-block alert-success\">\n",
    "<b>Comentario del revisor</b> <a class=“tocSkip”></a>\n",
    "Si todo está perfecto.\n",
    "</div>\n",
    "\n",
    "<div class=\"alert alert-block alert-warning\">\n",
    "<b>Comentario del revisor</b> <a class=“tocSkip”></a>\n",
    "Si tu código está bien pero se puede mejorar o hay algún detalle que le hace falta.\n",
    "</div>\n",
    "\n",
    "<div class=\"alert alert-block alert-danger\">\n",
    "<b>Comentario del revisor</b> <a class=“tocSkip”></a>\n",
    "Si de pronto hace falta algo o existe algún problema con tu código o conclusiones.\n",
    "</div>\n",
    "\n",
    "Puedes responderme de esta forma:\n",
    "<div class=\"alert alert-block alert-info\">\n",
    "<b>Respuesta del estudiante</b> <a class=“tocSkip”></a>\n",
    "</div>"
   ]
  },
  {
   "cell_type": "markdown",
   "metadata": {
    "id": "3rYiDeEH0q0f"
   },
   "source": [
    "# ¿Cuál es la mejor tarifa?\n",
    "\n",
    "Trabajas como analista para el operador de telecomunicaciones Megaline. La empresa ofrece a sus clientes dos tarifas de prepago, Surf y Ultimate. El departamento comercial quiere saber cuál de las tarifas genera más ingresos para poder ajustar el presupuesto de publicidad.\n",
    "\n",
    "Vas a realizar un análisis preliminar de las tarifas basado en una selección de clientes relativamente pequeña. Tendrás los datos de 500 clientes de Megaline: quiénes son los clientes, de dónde son, qué tarifa usan, así como la cantidad de llamadas que hicieron y los mensajes de texto que enviaron en 2018. Tu trabajo es analizar el comportamiento de los clientes y determinar qué tarifa de prepago genera más ingresos."
   ]
  },
  {
   "cell_type": "markdown",
   "metadata": {
    "id": "VNddPNRQ0q0w"
   },
   "source": [
    "[Te proporcionamos algunos comentarios para orientarte mientras completas este proyecto. Pero debes asegurarte de eliminar todos los comentarios entre corchetes antes de entregar tu proyecto.]\n",
    "\n",
    "[Antes de sumergirte en el análisis de datos, explica por tu propia cuenta el propósito del proyecto y las acciones que planeas realizar.]\n",
    "\n",
    "[Ten en cuenta que estudiar, modificar y analizar datos es un proceso iterativo. Es normal volver a los pasos anteriores y corregirlos/ampliarlos para permitir nuevos pasos.]"
   ]
  },
  {
   "cell_type": "markdown",
   "metadata": {
    "id": "MQi4IPy70q0y"
   },
   "source": [
    "## Inicialización"
   ]
  },
  {
   "cell_type": "code",
   "execution_count": 1,
   "metadata": {
    "id": "MtYIuBxu0q0z"
   },
   "outputs": [],
   "source": [
    "# Cargar todas las librerías\n",
    "\n",
    "from scipy import stats as st\n",
    "import pandas as pd\n",
    "import numpy as np\n",
    "import matplotlib.pyplot as plt\n",
    "import seaborn as sns"
   ]
  },
  {
   "cell_type": "markdown",
   "metadata": {
    "id": "4ysWWC5i0q00"
   },
   "source": [
    "## Cargar datos"
   ]
  },
  {
   "cell_type": "code",
   "execution_count": 2,
   "metadata": {
    "id": "CCqPW7rS0q01"
   },
   "outputs": [],
   "source": [
    "# Carga los archivos de datos en diferentes DataFrames\n",
    "dt_megaline_calls = pd.read_csv('/datasets/megaline_calls.csv')\n",
    "dt_megaline_internet = pd.read_csv('/datasets/megaline_internet.csv')\n",
    "dt_megaline_messages = pd.read_csv('/datasets/megaline_messages.csv')\n",
    "dt_megaline_plans = pd.read_csv('/datasets/megaline_plans.csv')\n",
    "dt_megaline_users = pd.read_csv('/datasets/megaline_users.csv')\n",
    "\n",
    "#print(dt_megaline_calls.head()) # check if separations are correct\n",
    "#print('/////////////////')\n",
    "#print(dt_megaline_internet.head())\n",
    "#print('/////////////////')\n",
    "#print(dt_megaline_messages.head())\n",
    "#print('/////////////////')\n",
    "#print(dt_megaline_plans.head())\n",
    "#print('/////////////////')\n",
    "#print(dt_megaline_users.head())\n"
   ]
  },
  {
   "cell_type": "markdown",
   "metadata": {},
   "source": [
    "<div class=\"alert alert-block alert-success\">\n",
    "<b>Comentario del revisor (1ra Iteracion)</b> <a class=“tocSkip”></a>\n",
    "\n",
    "Buen trabajo realizando la importación de librerías y carga de datos en celdas separadas, esto ayuda a que la lectura y seguimiento del notebook sea más amigable\n",
    "</div>"
   ]
  },
  {
   "cell_type": "markdown",
   "metadata": {
    "id": "69qqoJ3r0q01"
   },
   "source": [
    "## Preparar los datos"
   ]
  },
  {
   "cell_type": "markdown",
   "metadata": {
    "id": "vUuZw80S0q01"
   },
   "source": [
    "[Los datos para este proyecto se dividen en varias tablas. Explora cada una para tener una comprensión inicial de los datos. Si es necesario, haz las correcciones requeridas en cada tabla.]"
   ]
  },
  {
   "cell_type": "markdown",
   "metadata": {
    "id": "ohBhimvH0q01"
   },
   "source": [
    "## Tarifas"
   ]
  },
  {
   "cell_type": "code",
   "execution_count": 3,
   "metadata": {
    "id": "GptqP3Q40q02"
   },
   "outputs": [
    {
     "name": "stdout",
     "output_type": "stream",
     "text": [
      "<class 'pandas.core.frame.DataFrame'>\n",
      "RangeIndex: 2 entries, 0 to 1\n",
      "Data columns (total 8 columns):\n",
      " #   Column                 Non-Null Count  Dtype  \n",
      "---  ------                 --------------  -----  \n",
      " 0   messages_included      2 non-null      int64  \n",
      " 1   mb_per_month_included  2 non-null      int64  \n",
      " 2   minutes_included       2 non-null      int64  \n",
      " 3   usd_monthly_pay        2 non-null      int64  \n",
      " 4   usd_per_gb             2 non-null      int64  \n",
      " 5   usd_per_message        2 non-null      float64\n",
      " 6   usd_per_minute         2 non-null      float64\n",
      " 7   plan_name              2 non-null      object \n",
      "dtypes: float64(2), int64(5), object(1)\n",
      "memory usage: 256.0+ bytes\n"
     ]
    }
   ],
   "source": [
    "# Imprime la información general/resumida sobre el DataFrame de las tarifas\n",
    "dt_megaline_plans.info()\n"
   ]
  },
  {
   "cell_type": "code",
   "execution_count": 4,
   "metadata": {
    "id": "64xzjwL70q02"
   },
   "outputs": [
    {
     "data": {
      "text/html": [
       "<div>\n",
       "<style scoped>\n",
       "    .dataframe tbody tr th:only-of-type {\n",
       "        vertical-align: middle;\n",
       "    }\n",
       "\n",
       "    .dataframe tbody tr th {\n",
       "        vertical-align: top;\n",
       "    }\n",
       "\n",
       "    .dataframe thead th {\n",
       "        text-align: right;\n",
       "    }\n",
       "</style>\n",
       "<table border=\"1\" class=\"dataframe\">\n",
       "  <thead>\n",
       "    <tr style=\"text-align: right;\">\n",
       "      <th></th>\n",
       "      <th>messages_included</th>\n",
       "      <th>mb_per_month_included</th>\n",
       "      <th>minutes_included</th>\n",
       "      <th>usd_monthly_pay</th>\n",
       "      <th>usd_per_gb</th>\n",
       "      <th>usd_per_message</th>\n",
       "      <th>usd_per_minute</th>\n",
       "      <th>plan_name</th>\n",
       "    </tr>\n",
       "  </thead>\n",
       "  <tbody>\n",
       "    <tr>\n",
       "      <th>0</th>\n",
       "      <td>50</td>\n",
       "      <td>15360</td>\n",
       "      <td>500</td>\n",
       "      <td>20</td>\n",
       "      <td>10</td>\n",
       "      <td>0.03</td>\n",
       "      <td>0.03</td>\n",
       "      <td>surf</td>\n",
       "    </tr>\n",
       "    <tr>\n",
       "      <th>1</th>\n",
       "      <td>1000</td>\n",
       "      <td>30720</td>\n",
       "      <td>3000</td>\n",
       "      <td>70</td>\n",
       "      <td>7</td>\n",
       "      <td>0.01</td>\n",
       "      <td>0.01</td>\n",
       "      <td>ultimate</td>\n",
       "    </tr>\n",
       "  </tbody>\n",
       "</table>\n",
       "</div>"
      ],
      "text/plain": [
       "   messages_included  mb_per_month_included  minutes_included  \\\n",
       "0                 50                  15360               500   \n",
       "1               1000                  30720              3000   \n",
       "\n",
       "   usd_monthly_pay  usd_per_gb  usd_per_message  usd_per_minute plan_name  \n",
       "0               20          10             0.03            0.03      surf  \n",
       "1               70           7             0.01            0.01  ultimate  "
      ]
     },
     "execution_count": 4,
     "metadata": {},
     "output_type": "execute_result"
    }
   ],
   "source": [
    "# Imprime una muestra de los datos para las tarifas\n",
    "dt_megaline_plans.head()\n"
   ]
  },
  {
   "cell_type": "markdown",
   "metadata": {
    "id": "mEc_3_hs0q02"
   },
   "source": [
    "[Describe lo que ves y observas en la información general y en la muestra de datos impresa para el precio de datos anterior. ¿Hay algún problema (tipos de datos no adecuados, datos ausentes, etc.) que pudieran necesitar investigación y cambios adicionales? ¿Cómo se puede arreglar?]"
   ]
  },
  {
   "cell_type": "markdown",
   "metadata": {
    "collapsed": false,
    "id": "R3C05i1l0q03",
    "jupyter": {
     "outputs_hidden": false
    }
   },
   "source": [
    "## Corregir datos"
   ]
  },
  {
   "cell_type": "markdown",
   "metadata": {
    "id": "bIi8StZI0q03"
   },
   "source": [
    "[Corrige los problemas obvios con los datos basándote en las observaciones iniciales.]\n",
    "\n",
    "1. Las columnas respetan las cantidades del plan correctamente.\n",
    "2. Se hará cambio de nombre a alguna columna para respetar el diccionario de datos dado al inicio. `usd_monthly_pay` por `usd_monthly_fee`"
   ]
  },
  {
   "cell_type": "code",
   "execution_count": 5,
   "metadata": {
    "id": "Y7SVmjGn0q03"
   },
   "outputs": [],
   "source": [
    "dt_megaline_plans.rename(columns={'usd_monthly_pay': 'usd_monthly_fee'}, inplace=True)\n",
    "#dt_megaline_plans.head() #mostrar el cambio realizado"
   ]
  },
  {
   "cell_type": "markdown",
   "metadata": {
    "id": "LJir7bml0q03"
   },
   "source": [
    "## Enriquecer los datos"
   ]
  },
  {
   "cell_type": "markdown",
   "metadata": {
    "id": "eqADpCfg0q04"
   },
   "source": [
    "[Agrega factores adicionales a los datos si crees que pudieran ser útiles.]"
   ]
  },
  {
   "cell_type": "code",
   "execution_count": 6,
   "metadata": {
    "id": "gfcIEuXV0q04"
   },
   "outputs": [
    {
     "name": "stdout",
     "output_type": "stream",
     "text": [
      "   messages_included  mb_per_month_included  minutes_included  \\\n",
      "0                 50                  15360               500   \n",
      "1               1000                  30720              3000   \n",
      "\n",
      "   usd_monthly_fee  usd_per_gb  usd_per_message  usd_per_minute plan_name  \\\n",
      "0               20          10             0.03            0.03      surf   \n",
      "1               70           7             0.01            0.01  ultimate   \n",
      "\n",
      "   total_users  \n",
      "0          339  \n",
      "1          161  \n"
     ]
    }
   ],
   "source": [
    "#calcular el total de usuarios de cada plan desde el data frame dt_megaline_users y agregar directamente en dt_megaline_plans en una columna llamada total_users\n",
    "conteo_usuarios = dt_megaline_users['plan'].value_counts()\n",
    "\n",
    "#Mapear los conteos a dt_megaline_plans\n",
    "dt_megaline_plans['total_users'] = dt_megaline_plans['plan_name'].map(conteo_usuarios).fillna(0).astype(int)\n",
    "print(dt_megaline_plans.head())"
   ]
  },
  {
   "cell_type": "markdown",
   "metadata": {},
   "source": [
    "<div class=\"alert alert-block alert-danger\">\n",
    "<b>Comentario del revisor (1ra Iteracion)</b> <a class=“tocSkip”></a>\n",
    "\n",
    "Para estandarizar tus datos aquí deberías transformar los MB a GB dividiendo para 1024, así quedan todos los datos en una misma unidad de medida\n",
    "</div>"
   ]
  },
  {
   "cell_type": "code",
   "execution_count": null,
   "metadata": {},
   "outputs": [],
   "source": []
  },
  {
   "cell_type": "markdown",
   "metadata": {
    "id": "1n2X6WXf0q04"
   },
   "source": [
    "## Usuarios/as"
   ]
  },
  {
   "cell_type": "code",
   "execution_count": 7,
   "metadata": {
    "id": "2NgjWFqx0q05"
   },
   "outputs": [
    {
     "name": "stdout",
     "output_type": "stream",
     "text": [
      "<class 'pandas.core.frame.DataFrame'>\n",
      "RangeIndex: 500 entries, 0 to 499\n",
      "Data columns (total 8 columns):\n",
      " #   Column      Non-Null Count  Dtype \n",
      "---  ------      --------------  ----- \n",
      " 0   user_id     500 non-null    int64 \n",
      " 1   first_name  500 non-null    object\n",
      " 2   last_name   500 non-null    object\n",
      " 3   age         500 non-null    int64 \n",
      " 4   city        500 non-null    object\n",
      " 5   reg_date    500 non-null    object\n",
      " 6   plan        500 non-null    object\n",
      " 7   churn_date  34 non-null     object\n",
      "dtypes: int64(2), object(6)\n",
      "memory usage: 31.4+ KB\n"
     ]
    }
   ],
   "source": [
    "# Imprime la información general/resumida sobre el DataFrame de usuarios\n",
    "\n",
    "dt_megaline_users.info()"
   ]
  },
  {
   "cell_type": "code",
   "execution_count": 8,
   "metadata": {
    "id": "1IN1L9uh0q05"
   },
   "outputs": [
    {
     "data": {
      "text/html": [
       "<div>\n",
       "<style scoped>\n",
       "    .dataframe tbody tr th:only-of-type {\n",
       "        vertical-align: middle;\n",
       "    }\n",
       "\n",
       "    .dataframe tbody tr th {\n",
       "        vertical-align: top;\n",
       "    }\n",
       "\n",
       "    .dataframe thead th {\n",
       "        text-align: right;\n",
       "    }\n",
       "</style>\n",
       "<table border=\"1\" class=\"dataframe\">\n",
       "  <thead>\n",
       "    <tr style=\"text-align: right;\">\n",
       "      <th></th>\n",
       "      <th>user_id</th>\n",
       "      <th>first_name</th>\n",
       "      <th>last_name</th>\n",
       "      <th>age</th>\n",
       "      <th>city</th>\n",
       "      <th>reg_date</th>\n",
       "      <th>plan</th>\n",
       "      <th>churn_date</th>\n",
       "    </tr>\n",
       "  </thead>\n",
       "  <tbody>\n",
       "    <tr>\n",
       "      <th>200</th>\n",
       "      <td>1200</td>\n",
       "      <td>Delmar</td>\n",
       "      <td>Cross</td>\n",
       "      <td>45</td>\n",
       "      <td>Boston-Cambridge-Newton, MA-NH MSA</td>\n",
       "      <td>2018-11-27</td>\n",
       "      <td>surf</td>\n",
       "      <td>NaN</td>\n",
       "    </tr>\n",
       "    <tr>\n",
       "      <th>291</th>\n",
       "      <td>1291</td>\n",
       "      <td>Angeles</td>\n",
       "      <td>Mejia</td>\n",
       "      <td>65</td>\n",
       "      <td>Indianapolis-Carmel-Anderson, IN MSA</td>\n",
       "      <td>2018-01-29</td>\n",
       "      <td>surf</td>\n",
       "      <td>NaN</td>\n",
       "    </tr>\n",
       "    <tr>\n",
       "      <th>292</th>\n",
       "      <td>1292</td>\n",
       "      <td>Cassey</td>\n",
       "      <td>French</td>\n",
       "      <td>42</td>\n",
       "      <td>Dallas-Fort Worth-Arlington, TX MSA</td>\n",
       "      <td>2018-01-27</td>\n",
       "      <td>surf</td>\n",
       "      <td>NaN</td>\n",
       "    </tr>\n",
       "    <tr>\n",
       "      <th>257</th>\n",
       "      <td>1257</td>\n",
       "      <td>Gabriel</td>\n",
       "      <td>O'donnell</td>\n",
       "      <td>61</td>\n",
       "      <td>New York-Newark-Jersey City, NY-NJ-PA MSA</td>\n",
       "      <td>2018-01-29</td>\n",
       "      <td>surf</td>\n",
       "      <td>NaN</td>\n",
       "    </tr>\n",
       "    <tr>\n",
       "      <th>181</th>\n",
       "      <td>1181</td>\n",
       "      <td>Ron</td>\n",
       "      <td>Kaufman</td>\n",
       "      <td>47</td>\n",
       "      <td>New York-Newark-Jersey City, NY-NJ-PA MSA</td>\n",
       "      <td>2018-04-13</td>\n",
       "      <td>surf</td>\n",
       "      <td>NaN</td>\n",
       "    </tr>\n",
       "    <tr>\n",
       "      <th>120</th>\n",
       "      <td>1120</td>\n",
       "      <td>Abraham</td>\n",
       "      <td>Mcconnell</td>\n",
       "      <td>33</td>\n",
       "      <td>New York-Newark-Jersey City, NY-NJ-PA MSA</td>\n",
       "      <td>2018-04-03</td>\n",
       "      <td>surf</td>\n",
       "      <td>NaN</td>\n",
       "    </tr>\n",
       "    <tr>\n",
       "      <th>318</th>\n",
       "      <td>1318</td>\n",
       "      <td>Huey</td>\n",
       "      <td>Walsh</td>\n",
       "      <td>54</td>\n",
       "      <td>Atlanta-Sandy Springs-Roswell, GA MSA</td>\n",
       "      <td>2018-09-29</td>\n",
       "      <td>surf</td>\n",
       "      <td>NaN</td>\n",
       "    </tr>\n",
       "    <tr>\n",
       "      <th>391</th>\n",
       "      <td>1391</td>\n",
       "      <td>Errol</td>\n",
       "      <td>Cooke</td>\n",
       "      <td>52</td>\n",
       "      <td>New York-Newark-Jersey City, NY-NJ-PA MSA</td>\n",
       "      <td>2018-09-11</td>\n",
       "      <td>ultimate</td>\n",
       "      <td>NaN</td>\n",
       "    </tr>\n",
       "    <tr>\n",
       "      <th>92</th>\n",
       "      <td>1092</td>\n",
       "      <td>Taren</td>\n",
       "      <td>Strickland</td>\n",
       "      <td>26</td>\n",
       "      <td>Dallas-Fort Worth-Arlington, TX MSA</td>\n",
       "      <td>2018-12-10</td>\n",
       "      <td>surf</td>\n",
       "      <td>NaN</td>\n",
       "    </tr>\n",
       "    <tr>\n",
       "      <th>1</th>\n",
       "      <td>1001</td>\n",
       "      <td>Mickey</td>\n",
       "      <td>Wilkerson</td>\n",
       "      <td>28</td>\n",
       "      <td>Seattle-Tacoma-Bellevue, WA MSA</td>\n",
       "      <td>2018-08-13</td>\n",
       "      <td>surf</td>\n",
       "      <td>NaN</td>\n",
       "    </tr>\n",
       "    <tr>\n",
       "      <th>23</th>\n",
       "      <td>1023</td>\n",
       "      <td>Jack</td>\n",
       "      <td>Delaney</td>\n",
       "      <td>70</td>\n",
       "      <td>Omaha-Council Bluffs, NE-IA MSA</td>\n",
       "      <td>2018-07-06</td>\n",
       "      <td>surf</td>\n",
       "      <td>NaN</td>\n",
       "    </tr>\n",
       "    <tr>\n",
       "      <th>435</th>\n",
       "      <td>1435</td>\n",
       "      <td>Darnell</td>\n",
       "      <td>Powell</td>\n",
       "      <td>23</td>\n",
       "      <td>Washington-Arlington-Alexandria, DC-VA-MD-WV MSA</td>\n",
       "      <td>2018-07-24</td>\n",
       "      <td>ultimate</td>\n",
       "      <td>NaN</td>\n",
       "    </tr>\n",
       "    <tr>\n",
       "      <th>261</th>\n",
       "      <td>1261</td>\n",
       "      <td>Dusti</td>\n",
       "      <td>Forbes</td>\n",
       "      <td>31</td>\n",
       "      <td>Kansas City, MO-KS MSA</td>\n",
       "      <td>2018-02-22</td>\n",
       "      <td>surf</td>\n",
       "      <td>NaN</td>\n",
       "    </tr>\n",
       "    <tr>\n",
       "      <th>206</th>\n",
       "      <td>1206</td>\n",
       "      <td>Angelic</td>\n",
       "      <td>Singleton</td>\n",
       "      <td>21</td>\n",
       "      <td>Providence-Warwick, RI-MA MSA</td>\n",
       "      <td>2018-07-09</td>\n",
       "      <td>surf</td>\n",
       "      <td>NaN</td>\n",
       "    </tr>\n",
       "    <tr>\n",
       "      <th>45</th>\n",
       "      <td>1045</td>\n",
       "      <td>Barney</td>\n",
       "      <td>Ortega</td>\n",
       "      <td>20</td>\n",
       "      <td>New York-Newark-Jersey City, NY-NJ-PA MSA</td>\n",
       "      <td>2018-10-15</td>\n",
       "      <td>surf</td>\n",
       "      <td>NaN</td>\n",
       "    </tr>\n",
       "    <tr>\n",
       "      <th>339</th>\n",
       "      <td>1339</td>\n",
       "      <td>Mariette</td>\n",
       "      <td>Mclean</td>\n",
       "      <td>27</td>\n",
       "      <td>Charlotte-Concord-Gastonia, NC-SC MSA</td>\n",
       "      <td>2018-03-03</td>\n",
       "      <td>surf</td>\n",
       "      <td>NaN</td>\n",
       "    </tr>\n",
       "    <tr>\n",
       "      <th>61</th>\n",
       "      <td>1061</td>\n",
       "      <td>Maryam</td>\n",
       "      <td>Valencia</td>\n",
       "      <td>38</td>\n",
       "      <td>Columbia, SC MSA</td>\n",
       "      <td>2018-03-08</td>\n",
       "      <td>ultimate</td>\n",
       "      <td>NaN</td>\n",
       "    </tr>\n",
       "    <tr>\n",
       "      <th>378</th>\n",
       "      <td>1378</td>\n",
       "      <td>Mckinley</td>\n",
       "      <td>Clayton</td>\n",
       "      <td>22</td>\n",
       "      <td>Denver-Aurora-Lakewood, CO MSA</td>\n",
       "      <td>2018-12-17</td>\n",
       "      <td>surf</td>\n",
       "      <td>NaN</td>\n",
       "    </tr>\n",
       "    <tr>\n",
       "      <th>211</th>\n",
       "      <td>1211</td>\n",
       "      <td>Vito</td>\n",
       "      <td>Cameron</td>\n",
       "      <td>60</td>\n",
       "      <td>New York-Newark-Jersey City, NY-NJ-PA MSA</td>\n",
       "      <td>2018-06-30</td>\n",
       "      <td>ultimate</td>\n",
       "      <td>NaN</td>\n",
       "    </tr>\n",
       "    <tr>\n",
       "      <th>106</th>\n",
       "      <td>1106</td>\n",
       "      <td>Eddy</td>\n",
       "      <td>Garrison</td>\n",
       "      <td>47</td>\n",
       "      <td>New York-Newark-Jersey City, NY-NJ-PA MSA</td>\n",
       "      <td>2018-05-10</td>\n",
       "      <td>surf</td>\n",
       "      <td>2018-11-14</td>\n",
       "    </tr>\n",
       "  </tbody>\n",
       "</table>\n",
       "</div>"
      ],
      "text/plain": [
       "     user_id first_name   last_name  age  \\\n",
       "200     1200     Delmar       Cross   45   \n",
       "291     1291    Angeles       Mejia   65   \n",
       "292     1292     Cassey      French   42   \n",
       "257     1257    Gabriel   O'donnell   61   \n",
       "181     1181        Ron     Kaufman   47   \n",
       "120     1120    Abraham   Mcconnell   33   \n",
       "318     1318       Huey       Walsh   54   \n",
       "391     1391      Errol       Cooke   52   \n",
       "92      1092      Taren  Strickland   26   \n",
       "1       1001     Mickey   Wilkerson   28   \n",
       "23      1023       Jack     Delaney   70   \n",
       "435     1435    Darnell      Powell   23   \n",
       "261     1261      Dusti      Forbes   31   \n",
       "206     1206    Angelic   Singleton   21   \n",
       "45      1045     Barney      Ortega   20   \n",
       "339     1339   Mariette      Mclean   27   \n",
       "61      1061     Maryam    Valencia   38   \n",
       "378     1378   Mckinley     Clayton   22   \n",
       "211     1211       Vito     Cameron   60   \n",
       "106     1106       Eddy    Garrison   47   \n",
       "\n",
       "                                                 city    reg_date      plan  \\\n",
       "200                Boston-Cambridge-Newton, MA-NH MSA  2018-11-27      surf   \n",
       "291              Indianapolis-Carmel-Anderson, IN MSA  2018-01-29      surf   \n",
       "292               Dallas-Fort Worth-Arlington, TX MSA  2018-01-27      surf   \n",
       "257         New York-Newark-Jersey City, NY-NJ-PA MSA  2018-01-29      surf   \n",
       "181         New York-Newark-Jersey City, NY-NJ-PA MSA  2018-04-13      surf   \n",
       "120         New York-Newark-Jersey City, NY-NJ-PA MSA  2018-04-03      surf   \n",
       "318             Atlanta-Sandy Springs-Roswell, GA MSA  2018-09-29      surf   \n",
       "391         New York-Newark-Jersey City, NY-NJ-PA MSA  2018-09-11  ultimate   \n",
       "92                Dallas-Fort Worth-Arlington, TX MSA  2018-12-10      surf   \n",
       "1                     Seattle-Tacoma-Bellevue, WA MSA  2018-08-13      surf   \n",
       "23                    Omaha-Council Bluffs, NE-IA MSA  2018-07-06      surf   \n",
       "435  Washington-Arlington-Alexandria, DC-VA-MD-WV MSA  2018-07-24  ultimate   \n",
       "261                            Kansas City, MO-KS MSA  2018-02-22      surf   \n",
       "206                     Providence-Warwick, RI-MA MSA  2018-07-09      surf   \n",
       "45          New York-Newark-Jersey City, NY-NJ-PA MSA  2018-10-15      surf   \n",
       "339             Charlotte-Concord-Gastonia, NC-SC MSA  2018-03-03      surf   \n",
       "61                                   Columbia, SC MSA  2018-03-08  ultimate   \n",
       "378                    Denver-Aurora-Lakewood, CO MSA  2018-12-17      surf   \n",
       "211         New York-Newark-Jersey City, NY-NJ-PA MSA  2018-06-30  ultimate   \n",
       "106         New York-Newark-Jersey City, NY-NJ-PA MSA  2018-05-10      surf   \n",
       "\n",
       "     churn_date  \n",
       "200         NaN  \n",
       "291         NaN  \n",
       "292         NaN  \n",
       "257         NaN  \n",
       "181         NaN  \n",
       "120         NaN  \n",
       "318         NaN  \n",
       "391         NaN  \n",
       "92          NaN  \n",
       "1           NaN  \n",
       "23          NaN  \n",
       "435         NaN  \n",
       "261         NaN  \n",
       "206         NaN  \n",
       "45          NaN  \n",
       "339         NaN  \n",
       "61          NaN  \n",
       "378         NaN  \n",
       "211         NaN  \n",
       "106  2018-11-14  "
      ]
     },
     "execution_count": 8,
     "metadata": {},
     "output_type": "execute_result"
    }
   ],
   "source": [
    "# Imprime una muestra de datos para usuarios\n",
    "\n",
    "dt_megaline_users.sample(20)"
   ]
  },
  {
   "cell_type": "markdown",
   "metadata": {
    "id": "dCZoUq4f0q06"
   },
   "source": [
    "[Describe lo que ves y observas en la información general y en la muestra de datos impresa para el precio de datos anterior. ¿Hay algún problema (tipos de datos no adecuados, datos ausentes, etc.) que pudieran necesitar investigación y cambios adicionales? ¿Cómo se puede arreglar?]\n",
    "1.   `reg_date` y `churn_date` se cambiaran a tipo date para poder utilizar mejor estos datos.\n",
    "2.   Los valores nulos de `churn_date` se dejaran como **NaT** lo que nos ayuda a recordar que aun se estaba usando cuando se hizo la extracción"
   ]
  },
  {
   "cell_type": "markdown",
   "metadata": {
    "id": "BX5FQh_I0q06"
   },
   "source": [
    "### Corregir los datos"
   ]
  },
  {
   "cell_type": "markdown",
   "metadata": {
    "id": "8OdKMwJv0q06"
   },
   "source": [
    "[Corrige los problemas obvios con los datos basándote en las observaciones iniciales.]"
   ]
  },
  {
   "cell_type": "code",
   "execution_count": 9,
   "metadata": {
    "id": "yUqX-K0C0q07"
   },
   "outputs": [
    {
     "name": "stdout",
     "output_type": "stream",
     "text": [
      "<class 'pandas.core.frame.DataFrame'>\n",
      "RangeIndex: 500 entries, 0 to 499\n",
      "Data columns (total 8 columns):\n",
      " #   Column      Non-Null Count  Dtype         \n",
      "---  ------      --------------  -----         \n",
      " 0   user_id     500 non-null    int64         \n",
      " 1   first_name  500 non-null    object        \n",
      " 2   last_name   500 non-null    object        \n",
      " 3   age         500 non-null    int64         \n",
      " 4   city        500 non-null    object        \n",
      " 5   reg_date    500 non-null    datetime64[ns]\n",
      " 6   plan        500 non-null    object        \n",
      " 7   churn_date  34 non-null     datetime64[ns]\n",
      "dtypes: datetime64[ns](2), int64(2), object(4)\n",
      "memory usage: 31.4+ KB\n",
      "None\n",
      "     user_id first_name last_name  age  \\\n",
      "293     1293      Lanny     Nolan   23   \n",
      "251     1251     Tifany     Mcgee   45   \n",
      "425     1425   Latrisha    Larsen   19   \n",
      "497     1497      Donte   Barrera   49   \n",
      "411     1411        Man   Fleming   64   \n",
      "183     1183   Jermaine  Gallegos   71   \n",
      "134     1134    Shannon   Nichols   71   \n",
      "342     1342     Eugene    Patton   65   \n",
      "470     1470     Gerald     Reese   45   \n",
      "194     1194     Robert    Mclean   40   \n",
      "\n",
      "                                                 city   reg_date      plan  \\\n",
      "293   Philadelphia-Camden-Wilmington, PA-NJ-DE-MD MSA 2018-08-13      surf   \n",
      "251         New York-Newark-Jersey City, NY-NJ-PA MSA 2018-01-01      surf   \n",
      "425              Las Vegas-Henderson-Paradise, NV MSA 2018-09-20      surf   \n",
      "497            Los Angeles-Long Beach-Anaheim, CA MSA 2018-12-10  ultimate   \n",
      "411                                 Rochester, NY MSA 2018-08-10      surf   \n",
      "183            Chicago-Naperville-Elgin, IL-IN-WI MSA 2018-07-20      surf   \n",
      "134            Chicago-Naperville-Elgin, IL-IN-WI MSA 2018-09-03      surf   \n",
      "342              Indianapolis-Carmel-Anderson, IN MSA 2018-10-21      surf   \n",
      "470  Washington-Arlington-Alexandria, DC-VA-MD-WV MSA 2018-04-21      surf   \n",
      "194            San Jose-Sunnyvale-Santa Clara, CA MSA 2018-05-31      surf   \n",
      "\n",
      "    churn_date  \n",
      "293        NaT  \n",
      "251        NaT  \n",
      "425        NaT  \n",
      "497        NaT  \n",
      "411        NaT  \n",
      "183        NaT  \n",
      "134        NaT  \n",
      "342        NaT  \n",
      "470        NaT  \n",
      "194        NaT  \n"
     ]
    }
   ],
   "source": [
    "#cambio de tipos de datos\n",
    "dt_megaline_users['reg_date'] = pd.to_datetime(dt_megaline_users['reg_date']).astype(\"datetime64[s]\")\n",
    "dt_megaline_users['churn_date'] = pd.to_datetime(dt_megaline_users['churn_date'], errors='coerce').astype(\"datetime64[s]\")\n",
    "\n",
    "\n",
    "\n",
    "#revisar cambios\n",
    "print(dt_megaline_users.info())\n",
    "print(dt_megaline_users.sample(10))"
   ]
  },
  {
   "cell_type": "markdown",
   "metadata": {
    "id": "ycwuARJp0q07"
   },
   "source": [
    "### Enriquecer los datos"
   ]
  },
  {
   "cell_type": "markdown",
   "metadata": {
    "id": "96NIh4CJ0q08"
   },
   "source": [
    "[Agrega factores adicionales a los datos si crees que pudieran ser útiles.]"
   ]
  },
  {
   "cell_type": "code",
   "execution_count": 10,
   "metadata": {
    "id": "iq0AaBS90q08"
   },
   "outputs": [
    {
     "data": {
      "text/html": [
       "<div>\n",
       "<style scoped>\n",
       "    .dataframe tbody tr th:only-of-type {\n",
       "        vertical-align: middle;\n",
       "    }\n",
       "\n",
       "    .dataframe tbody tr th {\n",
       "        vertical-align: top;\n",
       "    }\n",
       "\n",
       "    .dataframe thead th {\n",
       "        text-align: right;\n",
       "    }\n",
       "</style>\n",
       "<table border=\"1\" class=\"dataframe\">\n",
       "  <thead>\n",
       "    <tr style=\"text-align: right;\">\n",
       "      <th></th>\n",
       "      <th>user_id</th>\n",
       "      <th>first_name</th>\n",
       "      <th>last_name</th>\n",
       "      <th>age</th>\n",
       "      <th>city</th>\n",
       "      <th>reg_date</th>\n",
       "      <th>plan</th>\n",
       "      <th>churn_date</th>\n",
       "      <th>days_in_use</th>\n",
       "    </tr>\n",
       "  </thead>\n",
       "  <tbody>\n",
       "    <tr>\n",
       "      <th>0</th>\n",
       "      <td>1000</td>\n",
       "      <td>Anamaria</td>\n",
       "      <td>Bauer</td>\n",
       "      <td>45</td>\n",
       "      <td>Atlanta-Sandy Springs-Roswell, GA MSA</td>\n",
       "      <td>2018-12-24</td>\n",
       "      <td>ultimate</td>\n",
       "      <td>NaT</td>\n",
       "      <td>In use</td>\n",
       "    </tr>\n",
       "    <tr>\n",
       "      <th>1</th>\n",
       "      <td>1001</td>\n",
       "      <td>Mickey</td>\n",
       "      <td>Wilkerson</td>\n",
       "      <td>28</td>\n",
       "      <td>Seattle-Tacoma-Bellevue, WA MSA</td>\n",
       "      <td>2018-08-13</td>\n",
       "      <td>surf</td>\n",
       "      <td>NaT</td>\n",
       "      <td>In use</td>\n",
       "    </tr>\n",
       "    <tr>\n",
       "      <th>2</th>\n",
       "      <td>1002</td>\n",
       "      <td>Carlee</td>\n",
       "      <td>Hoffman</td>\n",
       "      <td>36</td>\n",
       "      <td>Las Vegas-Henderson-Paradise, NV MSA</td>\n",
       "      <td>2018-10-21</td>\n",
       "      <td>surf</td>\n",
       "      <td>NaT</td>\n",
       "      <td>In use</td>\n",
       "    </tr>\n",
       "    <tr>\n",
       "      <th>3</th>\n",
       "      <td>1003</td>\n",
       "      <td>Reynaldo</td>\n",
       "      <td>Jenkins</td>\n",
       "      <td>52</td>\n",
       "      <td>Tulsa, OK MSA</td>\n",
       "      <td>2018-01-28</td>\n",
       "      <td>surf</td>\n",
       "      <td>NaT</td>\n",
       "      <td>In use</td>\n",
       "    </tr>\n",
       "    <tr>\n",
       "      <th>4</th>\n",
       "      <td>1004</td>\n",
       "      <td>Leonila</td>\n",
       "      <td>Thompson</td>\n",
       "      <td>40</td>\n",
       "      <td>Seattle-Tacoma-Bellevue, WA MSA</td>\n",
       "      <td>2018-05-23</td>\n",
       "      <td>surf</td>\n",
       "      <td>NaT</td>\n",
       "      <td>In use</td>\n",
       "    </tr>\n",
       "  </tbody>\n",
       "</table>\n",
       "</div>"
      ],
      "text/plain": [
       "   user_id first_name  last_name  age                                   city  \\\n",
       "0     1000   Anamaria      Bauer   45  Atlanta-Sandy Springs-Roswell, GA MSA   \n",
       "1     1001     Mickey  Wilkerson   28        Seattle-Tacoma-Bellevue, WA MSA   \n",
       "2     1002     Carlee    Hoffman   36   Las Vegas-Henderson-Paradise, NV MSA   \n",
       "3     1003   Reynaldo    Jenkins   52                          Tulsa, OK MSA   \n",
       "4     1004    Leonila   Thompson   40        Seattle-Tacoma-Bellevue, WA MSA   \n",
       "\n",
       "    reg_date      plan churn_date days_in_use  \n",
       "0 2018-12-24  ultimate        NaT      In use  \n",
       "1 2018-08-13      surf        NaT      In use  \n",
       "2 2018-10-21      surf        NaT      In use  \n",
       "3 2018-01-28      surf        NaT      In use  \n",
       "4 2018-05-23      surf        NaT      In use  "
      ]
     },
     "execution_count": 10,
     "metadata": {},
     "output_type": "execute_result"
    }
   ],
   "source": [
    "#crear columna days_in_use\n",
    "dt_megaline_users['days_in_use'] = dt_megaline_users['churn_date'] - dt_megaline_users['reg_date']\n",
    "dt_megaline_users['days_in_use'] = dt_megaline_users['days_in_use'].dt.days\n",
    "dt_megaline_users['days_in_use'] = dt_megaline_users['days_in_use'].fillna('In use')\n",
    "#revisar cambios\n",
    "dt_megaline_users.head()"
   ]
  },
  {
   "cell_type": "markdown",
   "metadata": {
    "id": "o7MeKCid0q08"
   },
   "source": [
    "## Llamadas"
   ]
  },
  {
   "cell_type": "code",
   "execution_count": 11,
   "metadata": {
    "id": "6dDlnoDm0q08"
   },
   "outputs": [
    {
     "name": "stdout",
     "output_type": "stream",
     "text": [
      "<class 'pandas.core.frame.DataFrame'>\n",
      "RangeIndex: 137735 entries, 0 to 137734\n",
      "Data columns (total 4 columns):\n",
      " #   Column     Non-Null Count   Dtype  \n",
      "---  ------     --------------   -----  \n",
      " 0   id         137735 non-null  object \n",
      " 1   user_id    137735 non-null  int64  \n",
      " 2   call_date  137735 non-null  object \n",
      " 3   duration   137735 non-null  float64\n",
      "dtypes: float64(1), int64(1), object(2)\n",
      "memory usage: 4.2+ MB\n"
     ]
    }
   ],
   "source": [
    "# Imprime la información general/resumida sobre el DataFrame de las llamadas\n",
    "\n",
    "dt_megaline_calls.info()"
   ]
  },
  {
   "cell_type": "code",
   "execution_count": 12,
   "metadata": {
    "id": "kuh1vlNB0q09"
   },
   "outputs": [
    {
     "data": {
      "text/html": [
       "<div>\n",
       "<style scoped>\n",
       "    .dataframe tbody tr th:only-of-type {\n",
       "        vertical-align: middle;\n",
       "    }\n",
       "\n",
       "    .dataframe tbody tr th {\n",
       "        vertical-align: top;\n",
       "    }\n",
       "\n",
       "    .dataframe thead th {\n",
       "        text-align: right;\n",
       "    }\n",
       "</style>\n",
       "<table border=\"1\" class=\"dataframe\">\n",
       "  <thead>\n",
       "    <tr style=\"text-align: right;\">\n",
       "      <th></th>\n",
       "      <th>id</th>\n",
       "      <th>user_id</th>\n",
       "      <th>call_date</th>\n",
       "      <th>duration</th>\n",
       "    </tr>\n",
       "  </thead>\n",
       "  <tbody>\n",
       "    <tr>\n",
       "      <th>117940</th>\n",
       "      <td>1412_224</td>\n",
       "      <td>1412</td>\n",
       "      <td>2018-08-29</td>\n",
       "      <td>12.82</td>\n",
       "    </tr>\n",
       "    <tr>\n",
       "      <th>36430</th>\n",
       "      <td>1138_389</td>\n",
       "      <td>1138</td>\n",
       "      <td>2018-11-22</td>\n",
       "      <td>0.00</td>\n",
       "    </tr>\n",
       "    <tr>\n",
       "      <th>47922</th>\n",
       "      <td>1173_244</td>\n",
       "      <td>1173</td>\n",
       "      <td>2018-10-27</td>\n",
       "      <td>1.00</td>\n",
       "    </tr>\n",
       "    <tr>\n",
       "      <th>76973</th>\n",
       "      <td>1277_49</td>\n",
       "      <td>1277</td>\n",
       "      <td>2018-10-02</td>\n",
       "      <td>0.00</td>\n",
       "    </tr>\n",
       "    <tr>\n",
       "      <th>29558</th>\n",
       "      <td>1112_64</td>\n",
       "      <td>1112</td>\n",
       "      <td>2018-10-30</td>\n",
       "      <td>8.83</td>\n",
       "    </tr>\n",
       "    <tr>\n",
       "      <th>97343</th>\n",
       "      <td>1347_169</td>\n",
       "      <td>1347</td>\n",
       "      <td>2018-10-28</td>\n",
       "      <td>10.57</td>\n",
       "    </tr>\n",
       "    <tr>\n",
       "      <th>82875</th>\n",
       "      <td>1299_533</td>\n",
       "      <td>1299</td>\n",
       "      <td>2018-06-22</td>\n",
       "      <td>8.19</td>\n",
       "    </tr>\n",
       "    <tr>\n",
       "      <th>40040</th>\n",
       "      <td>1147_876</td>\n",
       "      <td>1147</td>\n",
       "      <td>2018-09-05</td>\n",
       "      <td>8.93</td>\n",
       "    </tr>\n",
       "    <tr>\n",
       "      <th>71937</th>\n",
       "      <td>1255_990</td>\n",
       "      <td>1255</td>\n",
       "      <td>2018-11-04</td>\n",
       "      <td>10.49</td>\n",
       "    </tr>\n",
       "    <tr>\n",
       "      <th>12900</th>\n",
       "      <td>1056_43</td>\n",
       "      <td>1056</td>\n",
       "      <td>2018-09-26</td>\n",
       "      <td>7.14</td>\n",
       "    </tr>\n",
       "    <tr>\n",
       "      <th>113588</th>\n",
       "      <td>1399_211</td>\n",
       "      <td>1399</td>\n",
       "      <td>2018-08-26</td>\n",
       "      <td>9.69</td>\n",
       "    </tr>\n",
       "    <tr>\n",
       "      <th>64462</th>\n",
       "      <td>1232_828</td>\n",
       "      <td>1232</td>\n",
       "      <td>2018-04-11</td>\n",
       "      <td>2.99</td>\n",
       "    </tr>\n",
       "    <tr>\n",
       "      <th>81538</th>\n",
       "      <td>1293_724</td>\n",
       "      <td>1293</td>\n",
       "      <td>2018-10-02</td>\n",
       "      <td>5.58</td>\n",
       "    </tr>\n",
       "    <tr>\n",
       "      <th>22528</th>\n",
       "      <td>1082_589</td>\n",
       "      <td>1082</td>\n",
       "      <td>2018-11-29</td>\n",
       "      <td>10.91</td>\n",
       "    </tr>\n",
       "    <tr>\n",
       "      <th>42749</th>\n",
       "      <td>1156_354</td>\n",
       "      <td>1156</td>\n",
       "      <td>2018-05-20</td>\n",
       "      <td>0.00</td>\n",
       "    </tr>\n",
       "  </tbody>\n",
       "</table>\n",
       "</div>"
      ],
      "text/plain": [
       "              id  user_id   call_date  duration\n",
       "117940  1412_224     1412  2018-08-29     12.82\n",
       "36430   1138_389     1138  2018-11-22      0.00\n",
       "47922   1173_244     1173  2018-10-27      1.00\n",
       "76973    1277_49     1277  2018-10-02      0.00\n",
       "29558    1112_64     1112  2018-10-30      8.83\n",
       "97343   1347_169     1347  2018-10-28     10.57\n",
       "82875   1299_533     1299  2018-06-22      8.19\n",
       "40040   1147_876     1147  2018-09-05      8.93\n",
       "71937   1255_990     1255  2018-11-04     10.49\n",
       "12900    1056_43     1056  2018-09-26      7.14\n",
       "113588  1399_211     1399  2018-08-26      9.69\n",
       "64462   1232_828     1232  2018-04-11      2.99\n",
       "81538   1293_724     1293  2018-10-02      5.58\n",
       "22528   1082_589     1082  2018-11-29     10.91\n",
       "42749   1156_354     1156  2018-05-20      0.00"
      ]
     },
     "execution_count": 12,
     "metadata": {},
     "output_type": "execute_result"
    }
   ],
   "source": [
    "# Imprime una muestra de datos para las llamadas\n",
    "dt_megaline_calls.sample(15)\n"
   ]
  },
  {
   "cell_type": "markdown",
   "metadata": {
    "id": "DOAxYJSx0q09"
   },
   "source": [
    "[Describe lo que ves y observas en la información general y en la muestra de datos impresa para el precio de datos anterior. ¿Hay algún problema (tipos de datos no adecuados, datos ausentes, etc.) que pudieran necesitar investigación y cambios adicionales? ¿Cómo se puede arreglar?]\n",
    "1.   Se cambiará `call_date` al tipo de dato **date**.\n",
    "2.   Se redondearán las duraciones de las llamadas al minuto más próximo, respetando las descripciones de las tarifas dadas."
   ]
  },
  {
   "cell_type": "markdown",
   "metadata": {
    "id": "S7hzxmbX0q0-"
   },
   "source": [
    "### Corregir los datos"
   ]
  },
  {
   "cell_type": "markdown",
   "metadata": {
    "id": "YxWyAjD20q0-"
   },
   "source": [
    "[Corrige los problemas obvios con los datos basándote en las observaciones iniciales.]"
   ]
  },
  {
   "cell_type": "code",
   "execution_count": 1,
   "metadata": {
    "id": "S2r8xA4f0q0-"
   },
   "outputs": [
    {
     "ename": "NameError",
     "evalue": "name 'pd' is not defined",
     "output_type": "error",
     "traceback": [
      "\u001b[0;31m---------------------------------------------------------------------------\u001b[0m",
      "\u001b[0;31mNameError\u001b[0m                                 Traceback (most recent call last)",
      "Cell \u001b[0;32mIn[1], line 1\u001b[0m\n\u001b[0;32m----> 1\u001b[0m dt_megaline_calls[\u001b[38;5;124m'\u001b[39m\u001b[38;5;124mcall_date\u001b[39m\u001b[38;5;124m'\u001b[39m] \u001b[38;5;241m=\u001b[39m \u001b[43mpd\u001b[49m\u001b[38;5;241m.\u001b[39mto_datetime(dt_megaline_calls[\u001b[38;5;124m'\u001b[39m\u001b[38;5;124mcall_date\u001b[39m\u001b[38;5;124m'\u001b[39m])\u001b[38;5;241m.\u001b[39mastype(\u001b[38;5;124m\"\u001b[39m\u001b[38;5;124mdatetime64[s]\u001b[39m\u001b[38;5;124m\"\u001b[39m)\n\u001b[1;32m      2\u001b[0m \u001b[38;5;66;03m#print(dt_megaline_calls['duration'])\u001b[39;00m\n\u001b[1;32m      3\u001b[0m dt_megaline_calls[\u001b[38;5;124m'\u001b[39m\u001b[38;5;124mduration\u001b[39m\u001b[38;5;124m'\u001b[39m] \u001b[38;5;241m=\u001b[39m np\u001b[38;5;241m.\u001b[39mceil(dt_megaline_calls[\u001b[38;5;124m'\u001b[39m\u001b[38;5;124mduration\u001b[39m\u001b[38;5;124m'\u001b[39m])\u001b[38;5;241m.\u001b[39mastype(\u001b[38;5;28mint\u001b[39m) \u001b[38;5;66;03m#redondeo hacia arriba, al entero mas cercano\u001b[39;00m\n",
      "\u001b[0;31mNameError\u001b[0m: name 'pd' is not defined"
     ]
    }
   ],
   "source": [
    "dt_megaline_calls['call_date'] = pd.to_datetime(dt_megaline_calls['call_date']).astype(\"datetime64[s]\")\n",
    "#print(dt_megaline_calls['duration'])\n",
    "dt_megaline_calls['duration'] = np.ceil(dt_megaline_calls['duration']).astype(int) #redondeo hacia arriba, al entero mas cercano\n",
    "\n",
    "#revision\n",
    "#print(dt_megaline_calls['duration'])\n",
    "print(dt_megaline_calls.info())"
   ]
  },
  {
   "cell_type": "markdown",
   "metadata": {},
   "source": [
    "<div class=\"alert alert-block alert-danger\">\n",
    "<b>Comentario del revisor (1ra Iteracion)</b> <a class=“tocSkip”></a>\n",
    "\n",
    "Para seguir los lineamientos de la empresa, deberías aplicar un redondeo hacia arriba de la columna `duration` ya que se cobra cómo minuto entero cada fracción\n",
    "</div>"
   ]
  },
  {
   "cell_type": "markdown",
   "metadata": {
    "id": "KrMgTrlG0q0_"
   },
   "source": [
    "### Enriquecer los datos"
   ]
  },
  {
   "cell_type": "markdown",
   "metadata": {
    "id": "a9MbmEvE0q0_"
   },
   "source": [
    "[Agrega factores adicionales a los datos si crees que pudieran ser útiles.]\n",
    "1. Agregar el tipo de plan por usuario."
   ]
  },
  {
   "cell_type": "code",
   "execution_count": 14,
   "metadata": {
    "id": "iZ1avpA_0q0_"
   },
   "outputs": [
    {
     "data": {
      "text/html": [
       "<div>\n",
       "<style scoped>\n",
       "    .dataframe tbody tr th:only-of-type {\n",
       "        vertical-align: middle;\n",
       "    }\n",
       "\n",
       "    .dataframe tbody tr th {\n",
       "        vertical-align: top;\n",
       "    }\n",
       "\n",
       "    .dataframe thead th {\n",
       "        text-align: right;\n",
       "    }\n",
       "</style>\n",
       "<table border=\"1\" class=\"dataframe\">\n",
       "  <thead>\n",
       "    <tr style=\"text-align: right;\">\n",
       "      <th></th>\n",
       "      <th>id</th>\n",
       "      <th>user_id</th>\n",
       "      <th>call_date</th>\n",
       "      <th>duration</th>\n",
       "      <th>plan</th>\n",
       "    </tr>\n",
       "  </thead>\n",
       "  <tbody>\n",
       "    <tr>\n",
       "      <th>0</th>\n",
       "      <td>1000_93</td>\n",
       "      <td>1000</td>\n",
       "      <td>2018-12-27</td>\n",
       "      <td>9</td>\n",
       "      <td>ultimate</td>\n",
       "    </tr>\n",
       "    <tr>\n",
       "      <th>1</th>\n",
       "      <td>1000_145</td>\n",
       "      <td>1000</td>\n",
       "      <td>2018-12-27</td>\n",
       "      <td>14</td>\n",
       "      <td>ultimate</td>\n",
       "    </tr>\n",
       "    <tr>\n",
       "      <th>2</th>\n",
       "      <td>1000_247</td>\n",
       "      <td>1000</td>\n",
       "      <td>2018-12-27</td>\n",
       "      <td>15</td>\n",
       "      <td>ultimate</td>\n",
       "    </tr>\n",
       "    <tr>\n",
       "      <th>3</th>\n",
       "      <td>1000_309</td>\n",
       "      <td>1000</td>\n",
       "      <td>2018-12-28</td>\n",
       "      <td>6</td>\n",
       "      <td>ultimate</td>\n",
       "    </tr>\n",
       "    <tr>\n",
       "      <th>4</th>\n",
       "      <td>1000_380</td>\n",
       "      <td>1000</td>\n",
       "      <td>2018-12-30</td>\n",
       "      <td>5</td>\n",
       "      <td>ultimate</td>\n",
       "    </tr>\n",
       "  </tbody>\n",
       "</table>\n",
       "</div>"
      ],
      "text/plain": [
       "         id  user_id  call_date  duration      plan\n",
       "0   1000_93     1000 2018-12-27         9  ultimate\n",
       "1  1000_145     1000 2018-12-27        14  ultimate\n",
       "2  1000_247     1000 2018-12-27        15  ultimate\n",
       "3  1000_309     1000 2018-12-28         6  ultimate\n",
       "4  1000_380     1000 2018-12-30         5  ultimate"
      ]
     },
     "execution_count": 14,
     "metadata": {},
     "output_type": "execute_result"
    }
   ],
   "source": [
    "#agregar una columna de nombre plan que anexe el tipo de plan por usuario del data frame dt_megaline_users\n",
    "dt_megaline_calls = dt_megaline_calls.merge(dt_megaline_users[['user_id', 'plan']], on='user_id', how='left')\n",
    "dt_megaline_calls.head()"
   ]
  },
  {
   "cell_type": "markdown",
   "metadata": {
    "id": "mOUZSi180q0_"
   },
   "source": [
    "## Mensajes"
   ]
  },
  {
   "cell_type": "code",
   "execution_count": 15,
   "metadata": {
    "id": "R-bYJpdV0q1A"
   },
   "outputs": [
    {
     "name": "stdout",
     "output_type": "stream",
     "text": [
      "<class 'pandas.core.frame.DataFrame'>\n",
      "RangeIndex: 76051 entries, 0 to 76050\n",
      "Data columns (total 3 columns):\n",
      " #   Column        Non-Null Count  Dtype \n",
      "---  ------        --------------  ----- \n",
      " 0   id            76051 non-null  object\n",
      " 1   user_id       76051 non-null  int64 \n",
      " 2   message_date  76051 non-null  object\n",
      "dtypes: int64(1), object(2)\n",
      "memory usage: 1.7+ MB\n"
     ]
    }
   ],
   "source": [
    "# Imprime la información general/resumida sobre el DataFrame de los mensajes\n",
    "dt_megaline_messages.info()\n"
   ]
  },
  {
   "cell_type": "code",
   "execution_count": 16,
   "metadata": {
    "id": "mCEl2iGE0q1A"
   },
   "outputs": [
    {
     "data": {
      "text/html": [
       "<div>\n",
       "<style scoped>\n",
       "    .dataframe tbody tr th:only-of-type {\n",
       "        vertical-align: middle;\n",
       "    }\n",
       "\n",
       "    .dataframe tbody tr th {\n",
       "        vertical-align: top;\n",
       "    }\n",
       "\n",
       "    .dataframe thead th {\n",
       "        text-align: right;\n",
       "    }\n",
       "</style>\n",
       "<table border=\"1\" class=\"dataframe\">\n",
       "  <thead>\n",
       "    <tr style=\"text-align: right;\">\n",
       "      <th></th>\n",
       "      <th>id</th>\n",
       "      <th>user_id</th>\n",
       "      <th>message_date</th>\n",
       "    </tr>\n",
       "  </thead>\n",
       "  <tbody>\n",
       "    <tr>\n",
       "      <th>69178</th>\n",
       "      <td>1448_443</td>\n",
       "      <td>1448</td>\n",
       "      <td>2018-11-01</td>\n",
       "    </tr>\n",
       "    <tr>\n",
       "      <th>38821</th>\n",
       "      <td>1254_489</td>\n",
       "      <td>1254</td>\n",
       "      <td>2018-12-27</td>\n",
       "    </tr>\n",
       "    <tr>\n",
       "      <th>42628</th>\n",
       "      <td>1280_129</td>\n",
       "      <td>1280</td>\n",
       "      <td>2018-07-11</td>\n",
       "    </tr>\n",
       "    <tr>\n",
       "      <th>47004</th>\n",
       "      <td>1320_248</td>\n",
       "      <td>1320</td>\n",
       "      <td>2018-05-14</td>\n",
       "    </tr>\n",
       "    <tr>\n",
       "      <th>4324</th>\n",
       "      <td>1043_513</td>\n",
       "      <td>1043</td>\n",
       "      <td>2018-09-19</td>\n",
       "    </tr>\n",
       "    <tr>\n",
       "      <th>44182</th>\n",
       "      <td>1293_1107</td>\n",
       "      <td>1293</td>\n",
       "      <td>2018-12-25</td>\n",
       "    </tr>\n",
       "    <tr>\n",
       "      <th>61098</th>\n",
       "      <td>1384_161</td>\n",
       "      <td>1384</td>\n",
       "      <td>2018-11-20</td>\n",
       "    </tr>\n",
       "    <tr>\n",
       "      <th>67580</th>\n",
       "      <td>1438_146</td>\n",
       "      <td>1438</td>\n",
       "      <td>2018-10-22</td>\n",
       "    </tr>\n",
       "    <tr>\n",
       "      <th>38473</th>\n",
       "      <td>1253_7</td>\n",
       "      <td>1253</td>\n",
       "      <td>2018-11-05</td>\n",
       "    </tr>\n",
       "    <tr>\n",
       "      <th>36938</th>\n",
       "      <td>1247_102</td>\n",
       "      <td>1247</td>\n",
       "      <td>2018-12-17</td>\n",
       "    </tr>\n",
       "    <tr>\n",
       "      <th>30331</th>\n",
       "      <td>1191_36</td>\n",
       "      <td>1191</td>\n",
       "      <td>2018-09-16</td>\n",
       "    </tr>\n",
       "    <tr>\n",
       "      <th>72169</th>\n",
       "      <td>1467_501</td>\n",
       "      <td>1467</td>\n",
       "      <td>2018-08-31</td>\n",
       "    </tr>\n",
       "    <tr>\n",
       "      <th>46888</th>\n",
       "      <td>1320_132</td>\n",
       "      <td>1320</td>\n",
       "      <td>2018-12-17</td>\n",
       "    </tr>\n",
       "    <tr>\n",
       "      <th>60527</th>\n",
       "      <td>1382_34</td>\n",
       "      <td>1382</td>\n",
       "      <td>2018-08-26</td>\n",
       "    </tr>\n",
       "    <tr>\n",
       "      <th>61432</th>\n",
       "      <td>1384_561</td>\n",
       "      <td>1384</td>\n",
       "      <td>2018-08-02</td>\n",
       "    </tr>\n",
       "  </tbody>\n",
       "</table>\n",
       "</div>"
      ],
      "text/plain": [
       "              id  user_id message_date\n",
       "69178   1448_443     1448   2018-11-01\n",
       "38821   1254_489     1254   2018-12-27\n",
       "42628   1280_129     1280   2018-07-11\n",
       "47004   1320_248     1320   2018-05-14\n",
       "4324    1043_513     1043   2018-09-19\n",
       "44182  1293_1107     1293   2018-12-25\n",
       "61098   1384_161     1384   2018-11-20\n",
       "67580   1438_146     1438   2018-10-22\n",
       "38473     1253_7     1253   2018-11-05\n",
       "36938   1247_102     1247   2018-12-17\n",
       "30331    1191_36     1191   2018-09-16\n",
       "72169   1467_501     1467   2018-08-31\n",
       "46888   1320_132     1320   2018-12-17\n",
       "60527    1382_34     1382   2018-08-26\n",
       "61432   1384_561     1384   2018-08-02"
      ]
     },
     "execution_count": 16,
     "metadata": {},
     "output_type": "execute_result"
    }
   ],
   "source": [
    "# Imprime una muestra de datos para los mensajes\n",
    "\n",
    "dt_megaline_messages.sample(15)"
   ]
  },
  {
   "cell_type": "markdown",
   "metadata": {
    "id": "04xDj7KH0q1A"
   },
   "source": [
    "[Describe lo que ves y observas en la información general y en la muestra de datos impresa para el precio de datos anterior. ¿Hay algún problema (tipos de datos no adecuados, datos ausentes, etc.) que pudieran necesitar investigación y cambios adicionales? ¿Cómo se puede arreglar?]\n",
    "1.   Se cambiará el tipo de dato de `message_date` a tipo date."
   ]
  },
  {
   "cell_type": "markdown",
   "metadata": {
    "id": "Sprfak900q1B"
   },
   "source": [
    "### Corregir los datos"
   ]
  },
  {
   "cell_type": "markdown",
   "metadata": {
    "id": "eGw7d9j10q1B"
   },
   "source": [
    "[Corrige los problemas obvios con los datos basándote en las observaciones iniciales.]"
   ]
  },
  {
   "cell_type": "code",
   "execution_count": 17,
   "metadata": {
    "id": "vsllvkoa0q1B"
   },
   "outputs": [
    {
     "name": "stdout",
     "output_type": "stream",
     "text": [
      "<class 'pandas.core.frame.DataFrame'>\n",
      "RangeIndex: 76051 entries, 0 to 76050\n",
      "Data columns (total 3 columns):\n",
      " #   Column        Non-Null Count  Dtype         \n",
      "---  ------        --------------  -----         \n",
      " 0   id            76051 non-null  object        \n",
      " 1   user_id       76051 non-null  int64         \n",
      " 2   message_date  76051 non-null  datetime64[ns]\n",
      "dtypes: datetime64[ns](1), int64(1), object(1)\n",
      "memory usage: 1.7+ MB\n"
     ]
    }
   ],
   "source": [
    "dt_megaline_messages['message_date'] = pd.to_datetime(dt_megaline_messages['message_date']).astype(\"datetime64[s]\")\n",
    "dt_megaline_messages.info()"
   ]
  },
  {
   "cell_type": "markdown",
   "metadata": {
    "id": "HvLid7iD0q1B"
   },
   "source": [
    "### Enriquecer los datos"
   ]
  },
  {
   "cell_type": "markdown",
   "metadata": {
    "id": "8nhPFKIe0q1C"
   },
   "source": [
    "[Agrega factores adicionales a los datos si crees que pudieran ser útiles.]"
   ]
  },
  {
   "cell_type": "code",
   "execution_count": 18,
   "metadata": {
    "id": "zYEXZac10q1C"
   },
   "outputs": [
    {
     "data": {
      "text/html": [
       "<div>\n",
       "<style scoped>\n",
       "    .dataframe tbody tr th:only-of-type {\n",
       "        vertical-align: middle;\n",
       "    }\n",
       "\n",
       "    .dataframe tbody tr th {\n",
       "        vertical-align: top;\n",
       "    }\n",
       "\n",
       "    .dataframe thead th {\n",
       "        text-align: right;\n",
       "    }\n",
       "</style>\n",
       "<table border=\"1\" class=\"dataframe\">\n",
       "  <thead>\n",
       "    <tr style=\"text-align: right;\">\n",
       "      <th></th>\n",
       "      <th>id</th>\n",
       "      <th>user_id</th>\n",
       "      <th>message_date</th>\n",
       "      <th>plan</th>\n",
       "    </tr>\n",
       "  </thead>\n",
       "  <tbody>\n",
       "    <tr>\n",
       "      <th>0</th>\n",
       "      <td>1000_125</td>\n",
       "      <td>1000</td>\n",
       "      <td>2018-12-27</td>\n",
       "      <td>ultimate</td>\n",
       "    </tr>\n",
       "    <tr>\n",
       "      <th>1</th>\n",
       "      <td>1000_160</td>\n",
       "      <td>1000</td>\n",
       "      <td>2018-12-31</td>\n",
       "      <td>ultimate</td>\n",
       "    </tr>\n",
       "    <tr>\n",
       "      <th>2</th>\n",
       "      <td>1000_223</td>\n",
       "      <td>1000</td>\n",
       "      <td>2018-12-31</td>\n",
       "      <td>ultimate</td>\n",
       "    </tr>\n",
       "    <tr>\n",
       "      <th>3</th>\n",
       "      <td>1000_251</td>\n",
       "      <td>1000</td>\n",
       "      <td>2018-12-27</td>\n",
       "      <td>ultimate</td>\n",
       "    </tr>\n",
       "    <tr>\n",
       "      <th>4</th>\n",
       "      <td>1000_255</td>\n",
       "      <td>1000</td>\n",
       "      <td>2018-12-26</td>\n",
       "      <td>ultimate</td>\n",
       "    </tr>\n",
       "  </tbody>\n",
       "</table>\n",
       "</div>"
      ],
      "text/plain": [
       "         id  user_id message_date      plan\n",
       "0  1000_125     1000   2018-12-27  ultimate\n",
       "1  1000_160     1000   2018-12-31  ultimate\n",
       "2  1000_223     1000   2018-12-31  ultimate\n",
       "3  1000_251     1000   2018-12-27  ultimate\n",
       "4  1000_255     1000   2018-12-26  ultimate"
      ]
     },
     "execution_count": 18,
     "metadata": {},
     "output_type": "execute_result"
    }
   ],
   "source": [
    "dt_megaline_messages = dt_megaline_messages.merge(dt_megaline_users[['user_id', 'plan']], on='user_id', how='left')\n",
    "dt_megaline_messages.head()"
   ]
  },
  {
   "cell_type": "markdown",
   "metadata": {
    "id": "bStkaxn40q1C"
   },
   "source": [
    "## Internet"
   ]
  },
  {
   "cell_type": "code",
   "execution_count": 19,
   "metadata": {
    "id": "e-Uz5qyn0q1C"
   },
   "outputs": [
    {
     "name": "stdout",
     "output_type": "stream",
     "text": [
      "<class 'pandas.core.frame.DataFrame'>\n",
      "RangeIndex: 104825 entries, 0 to 104824\n",
      "Data columns (total 4 columns):\n",
      " #   Column        Non-Null Count   Dtype  \n",
      "---  ------        --------------   -----  \n",
      " 0   id            104825 non-null  object \n",
      " 1   user_id       104825 non-null  int64  \n",
      " 2   session_date  104825 non-null  object \n",
      " 3   mb_used       104825 non-null  float64\n",
      "dtypes: float64(1), int64(1), object(2)\n",
      "memory usage: 3.2+ MB\n"
     ]
    }
   ],
   "source": [
    "# Imprime la información general/resumida sobre el DataFrame de internet\n",
    "dt_megaline_internet.info()\n"
   ]
  },
  {
   "cell_type": "code",
   "execution_count": 20,
   "metadata": {
    "id": "9r3x_XLw0q1C"
   },
   "outputs": [
    {
     "data": {
      "text/html": [
       "<div>\n",
       "<style scoped>\n",
       "    .dataframe tbody tr th:only-of-type {\n",
       "        vertical-align: middle;\n",
       "    }\n",
       "\n",
       "    .dataframe tbody tr th {\n",
       "        vertical-align: top;\n",
       "    }\n",
       "\n",
       "    .dataframe thead th {\n",
       "        text-align: right;\n",
       "    }\n",
       "</style>\n",
       "<table border=\"1\" class=\"dataframe\">\n",
       "  <thead>\n",
       "    <tr style=\"text-align: right;\">\n",
       "      <th></th>\n",
       "      <th>id</th>\n",
       "      <th>user_id</th>\n",
       "      <th>session_date</th>\n",
       "      <th>mb_used</th>\n",
       "    </tr>\n",
       "  </thead>\n",
       "  <tbody>\n",
       "    <tr>\n",
       "      <th>36737</th>\n",
       "      <td>1165_117</td>\n",
       "      <td>1165</td>\n",
       "      <td>2018-10-28</td>\n",
       "      <td>336.88</td>\n",
       "    </tr>\n",
       "    <tr>\n",
       "      <th>85906</th>\n",
       "      <td>1400_34</td>\n",
       "      <td>1400</td>\n",
       "      <td>2018-06-07</td>\n",
       "      <td>805.04</td>\n",
       "    </tr>\n",
       "    <tr>\n",
       "      <th>58206</th>\n",
       "      <td>1263_10</td>\n",
       "      <td>1263</td>\n",
       "      <td>2018-12-29</td>\n",
       "      <td>567.99</td>\n",
       "    </tr>\n",
       "    <tr>\n",
       "      <th>34863</th>\n",
       "      <td>1156_460</td>\n",
       "      <td>1156</td>\n",
       "      <td>2018-07-21</td>\n",
       "      <td>53.20</td>\n",
       "    </tr>\n",
       "    <tr>\n",
       "      <th>85639</th>\n",
       "      <td>1399_250</td>\n",
       "      <td>1399</td>\n",
       "      <td>2018-09-21</td>\n",
       "      <td>397.46</td>\n",
       "    </tr>\n",
       "    <tr>\n",
       "      <th>14875</th>\n",
       "      <td>1067_246</td>\n",
       "      <td>1067</td>\n",
       "      <td>2018-11-27</td>\n",
       "      <td>565.30</td>\n",
       "    </tr>\n",
       "    <tr>\n",
       "      <th>34845</th>\n",
       "      <td>1156_442</td>\n",
       "      <td>1156</td>\n",
       "      <td>2018-07-09</td>\n",
       "      <td>0.00</td>\n",
       "    </tr>\n",
       "    <tr>\n",
       "      <th>32967</th>\n",
       "      <td>1148_115</td>\n",
       "      <td>1148</td>\n",
       "      <td>2018-11-11</td>\n",
       "      <td>212.93</td>\n",
       "    </tr>\n",
       "    <tr>\n",
       "      <th>71853</th>\n",
       "      <td>1335_92</td>\n",
       "      <td>1335</td>\n",
       "      <td>2018-08-01</td>\n",
       "      <td>770.54</td>\n",
       "    </tr>\n",
       "    <tr>\n",
       "      <th>75784</th>\n",
       "      <td>1357_34</td>\n",
       "      <td>1357</td>\n",
       "      <td>2018-09-01</td>\n",
       "      <td>0.00</td>\n",
       "    </tr>\n",
       "    <tr>\n",
       "      <th>93316</th>\n",
       "      <td>1435_82</td>\n",
       "      <td>1435</td>\n",
       "      <td>2018-10-30</td>\n",
       "      <td>521.00</td>\n",
       "    </tr>\n",
       "    <tr>\n",
       "      <th>37929</th>\n",
       "      <td>1171_300</td>\n",
       "      <td>1171</td>\n",
       "      <td>2018-10-13</td>\n",
       "      <td>237.57</td>\n",
       "    </tr>\n",
       "    <tr>\n",
       "      <th>12928</th>\n",
       "      <td>1061_425</td>\n",
       "      <td>1061</td>\n",
       "      <td>2018-09-25</td>\n",
       "      <td>880.00</td>\n",
       "    </tr>\n",
       "    <tr>\n",
       "      <th>6245</th>\n",
       "      <td>1036_18</td>\n",
       "      <td>1036</td>\n",
       "      <td>2018-11-24</td>\n",
       "      <td>38.36</td>\n",
       "    </tr>\n",
       "    <tr>\n",
       "      <th>58549</th>\n",
       "      <td>1263_353</td>\n",
       "      <td>1263</td>\n",
       "      <td>2018-11-06</td>\n",
       "      <td>0.00</td>\n",
       "    </tr>\n",
       "  </tbody>\n",
       "</table>\n",
       "</div>"
      ],
      "text/plain": [
       "             id  user_id session_date  mb_used\n",
       "36737  1165_117     1165   2018-10-28   336.88\n",
       "85906   1400_34     1400   2018-06-07   805.04\n",
       "58206   1263_10     1263   2018-12-29   567.99\n",
       "34863  1156_460     1156   2018-07-21    53.20\n",
       "85639  1399_250     1399   2018-09-21   397.46\n",
       "14875  1067_246     1067   2018-11-27   565.30\n",
       "34845  1156_442     1156   2018-07-09     0.00\n",
       "32967  1148_115     1148   2018-11-11   212.93\n",
       "71853   1335_92     1335   2018-08-01   770.54\n",
       "75784   1357_34     1357   2018-09-01     0.00\n",
       "93316   1435_82     1435   2018-10-30   521.00\n",
       "37929  1171_300     1171   2018-10-13   237.57\n",
       "12928  1061_425     1061   2018-09-25   880.00\n",
       "6245    1036_18     1036   2018-11-24    38.36\n",
       "58549  1263_353     1263   2018-11-06     0.00"
      ]
     },
     "execution_count": 20,
     "metadata": {},
     "output_type": "execute_result"
    }
   ],
   "source": [
    "# Imprime una muestra de datos para el tráfico de internet\n",
    "dt_megaline_internet.sample(15)"
   ]
  },
  {
   "cell_type": "markdown",
   "metadata": {
    "id": "EzOG5ik30q1D"
   },
   "source": [
    "[Describe lo que ves y observas en la información general y en la muestra de datos impresa para el precio de datos anterior. ¿Hay algún problema (tipos de datos no adecuados, datos ausentes, etc.) que pudieran necesitar investigación y cambios adicionales? ¿Cómo se puede arreglar?]\n",
    "1.   Cambiar el tipo de dato para `session_date` a date para poder calcular mejor el total de mb usados en el mes."
   ]
  },
  {
   "cell_type": "markdown",
   "metadata": {
    "id": "yA0tkPFg0q1D"
   },
   "source": [
    "### Corregir los datos"
   ]
  },
  {
   "cell_type": "markdown",
   "metadata": {
    "id": "zlZMuIEK0q1D"
   },
   "source": [
    "[Corrige los problemas obvios con los datos basándote en las observaciones iniciales.]"
   ]
  },
  {
   "cell_type": "code",
   "execution_count": 21,
   "metadata": {
    "id": "zVeanzdd0q1E"
   },
   "outputs": [
    {
     "name": "stdout",
     "output_type": "stream",
     "text": [
      "<class 'pandas.core.frame.DataFrame'>\n",
      "RangeIndex: 104825 entries, 0 to 104824\n",
      "Data columns (total 4 columns):\n",
      " #   Column        Non-Null Count   Dtype         \n",
      "---  ------        --------------   -----         \n",
      " 0   id            104825 non-null  object        \n",
      " 1   user_id       104825 non-null  int64         \n",
      " 2   session_date  104825 non-null  datetime64[ns]\n",
      " 3   mb_used       104825 non-null  float64       \n",
      "dtypes: datetime64[ns](1), float64(1), int64(1), object(1)\n",
      "memory usage: 3.2+ MB\n"
     ]
    }
   ],
   "source": [
    "dt_megaline_internet['session_date'] = pd.to_datetime(dt_megaline_internet['session_date']).astype(\"datetime64[s]\")\n",
    "dt_megaline_internet.info()"
   ]
  },
  {
   "cell_type": "markdown",
   "metadata": {
    "id": "e8_mLF4a0q1E"
   },
   "source": [
    "### Enriquecer los datos"
   ]
  },
  {
   "cell_type": "markdown",
   "metadata": {
    "id": "xhNdn2tE0q1E"
   },
   "source": [
    "[Agrega factores adicionales a los datos si crees que pudieran ser útiles.]\n",
    "1. Agregar el tipo de plan de cada entrada\n"
   ]
  },
  {
   "cell_type": "code",
   "execution_count": 22,
   "metadata": {
    "id": "ESiYPIEK0q1E"
   },
   "outputs": [],
   "source": [
    "dt_megaline_internet = dt_megaline_internet.merge(dt_megaline_users[['user_id', 'plan']], on='user_id', how='left')"
   ]
  },
  {
   "cell_type": "code",
   "execution_count": 23,
   "metadata": {},
   "outputs": [
    {
     "data": {
      "text/html": [
       "<div>\n",
       "<style scoped>\n",
       "    .dataframe tbody tr th:only-of-type {\n",
       "        vertical-align: middle;\n",
       "    }\n",
       "\n",
       "    .dataframe tbody tr th {\n",
       "        vertical-align: top;\n",
       "    }\n",
       "\n",
       "    .dataframe thead th {\n",
       "        text-align: right;\n",
       "    }\n",
       "</style>\n",
       "<table border=\"1\" class=\"dataframe\">\n",
       "  <thead>\n",
       "    <tr style=\"text-align: right;\">\n",
       "      <th></th>\n",
       "      <th>id</th>\n",
       "      <th>user_id</th>\n",
       "      <th>session_date</th>\n",
       "      <th>mb_used</th>\n",
       "      <th>plan</th>\n",
       "    </tr>\n",
       "  </thead>\n",
       "  <tbody>\n",
       "    <tr>\n",
       "      <th>50237</th>\n",
       "      <td>1223_449</td>\n",
       "      <td>1223</td>\n",
       "      <td>2018-12-23</td>\n",
       "      <td>300.04</td>\n",
       "      <td>surf</td>\n",
       "    </tr>\n",
       "    <tr>\n",
       "      <th>34185</th>\n",
       "      <td>1155_229</td>\n",
       "      <td>1155</td>\n",
       "      <td>2018-03-20</td>\n",
       "      <td>51.18</td>\n",
       "      <td>ultimate</td>\n",
       "    </tr>\n",
       "    <tr>\n",
       "      <th>94938</th>\n",
       "      <td>1443_8</td>\n",
       "      <td>1443</td>\n",
       "      <td>2018-12-11</td>\n",
       "      <td>0.00</td>\n",
       "      <td>surf</td>\n",
       "    </tr>\n",
       "    <tr>\n",
       "      <th>60666</th>\n",
       "      <td>1276_150</td>\n",
       "      <td>1276</td>\n",
       "      <td>2018-11-22</td>\n",
       "      <td>407.00</td>\n",
       "      <td>surf</td>\n",
       "    </tr>\n",
       "    <tr>\n",
       "      <th>8571</th>\n",
       "      <td>1045_72</td>\n",
       "      <td>1045</td>\n",
       "      <td>2018-10-17</td>\n",
       "      <td>863.96</td>\n",
       "      <td>surf</td>\n",
       "    </tr>\n",
       "    <tr>\n",
       "      <th>101481</th>\n",
       "      <td>1483_305</td>\n",
       "      <td>1483</td>\n",
       "      <td>2018-05-20</td>\n",
       "      <td>395.52</td>\n",
       "      <td>surf</td>\n",
       "    </tr>\n",
       "    <tr>\n",
       "      <th>69508</th>\n",
       "      <td>1324_226</td>\n",
       "      <td>1324</td>\n",
       "      <td>2018-06-01</td>\n",
       "      <td>577.99</td>\n",
       "      <td>surf</td>\n",
       "    </tr>\n",
       "    <tr>\n",
       "      <th>49520</th>\n",
       "      <td>1222_19</td>\n",
       "      <td>1222</td>\n",
       "      <td>2018-10-15</td>\n",
       "      <td>99.85</td>\n",
       "      <td>surf</td>\n",
       "    </tr>\n",
       "    <tr>\n",
       "      <th>82709</th>\n",
       "      <td>1386_24</td>\n",
       "      <td>1386</td>\n",
       "      <td>2018-12-16</td>\n",
       "      <td>682.08</td>\n",
       "      <td>surf</td>\n",
       "    </tr>\n",
       "    <tr>\n",
       "      <th>73567</th>\n",
       "      <td>1346_148</td>\n",
       "      <td>1346</td>\n",
       "      <td>2018-12-07</td>\n",
       "      <td>458.15</td>\n",
       "      <td>ultimate</td>\n",
       "    </tr>\n",
       "    <tr>\n",
       "      <th>67298</th>\n",
       "      <td>1312_521</td>\n",
       "      <td>1312</td>\n",
       "      <td>2018-07-22</td>\n",
       "      <td>212.71</td>\n",
       "      <td>surf</td>\n",
       "    </tr>\n",
       "    <tr>\n",
       "      <th>12284</th>\n",
       "      <td>1059_397</td>\n",
       "      <td>1059</td>\n",
       "      <td>2018-07-10</td>\n",
       "      <td>170.34</td>\n",
       "      <td>ultimate</td>\n",
       "    </tr>\n",
       "    <tr>\n",
       "      <th>16605</th>\n",
       "      <td>1075_38</td>\n",
       "      <td>1075</td>\n",
       "      <td>2018-12-30</td>\n",
       "      <td>1028.52</td>\n",
       "      <td>surf</td>\n",
       "    </tr>\n",
       "    <tr>\n",
       "      <th>91001</th>\n",
       "      <td>1418_265</td>\n",
       "      <td>1418</td>\n",
       "      <td>2018-09-20</td>\n",
       "      <td>183.38</td>\n",
       "      <td>surf</td>\n",
       "    </tr>\n",
       "    <tr>\n",
       "      <th>74333</th>\n",
       "      <td>1348_415</td>\n",
       "      <td>1348</td>\n",
       "      <td>2018-11-13</td>\n",
       "      <td>185.09</td>\n",
       "      <td>surf</td>\n",
       "    </tr>\n",
       "  </tbody>\n",
       "</table>\n",
       "</div>"
      ],
      "text/plain": [
       "              id  user_id session_date  mb_used      plan\n",
       "50237   1223_449     1223   2018-12-23   300.04      surf\n",
       "34185   1155_229     1155   2018-03-20    51.18  ultimate\n",
       "94938     1443_8     1443   2018-12-11     0.00      surf\n",
       "60666   1276_150     1276   2018-11-22   407.00      surf\n",
       "8571     1045_72     1045   2018-10-17   863.96      surf\n",
       "101481  1483_305     1483   2018-05-20   395.52      surf\n",
       "69508   1324_226     1324   2018-06-01   577.99      surf\n",
       "49520    1222_19     1222   2018-10-15    99.85      surf\n",
       "82709    1386_24     1386   2018-12-16   682.08      surf\n",
       "73567   1346_148     1346   2018-12-07   458.15  ultimate\n",
       "67298   1312_521     1312   2018-07-22   212.71      surf\n",
       "12284   1059_397     1059   2018-07-10   170.34  ultimate\n",
       "16605    1075_38     1075   2018-12-30  1028.52      surf\n",
       "91001   1418_265     1418   2018-09-20   183.38      surf\n",
       "74333   1348_415     1348   2018-11-13   185.09      surf"
      ]
     },
     "execution_count": 23,
     "metadata": {},
     "output_type": "execute_result"
    }
   ],
   "source": [
    "dt_megaline_internet.sample(15)"
   ]
  },
  {
   "cell_type": "markdown",
   "metadata": {
    "id": "3UA2cqIW0q1E"
   },
   "source": [
    "## Estudiar las condiciones de las tarifas"
   ]
  },
  {
   "cell_type": "markdown",
   "metadata": {
    "id": "T86Sqltq0q1F"
   },
   "source": [
    "[Es sumamente importante entender cómo funcionan las tarifas, cómo se les cobra a los usuarios en función de su plan de suscripción. Así que te sugerimos imprimir la información de la tarifa para ver una vez más sus condiciones.]"
   ]
  },
  {
   "cell_type": "code",
   "execution_count": 24,
   "metadata": {
    "id": "i409op8p0q1F"
   },
   "outputs": [
    {
     "name": "stdout",
     "output_type": "stream",
     "text": [
      "Surf\n",
      "1. Pago mensual: $20.\n",
      "2. 500 minutos al mes, 50 SMS y 15 GB de datos.\n",
      "3. Si se exceden los límites del paquete:\n",
      "    - 1 minuto: 3 centavos.\n",
      "    - 1 SMS: 3 centavos.\n",
      "    - 1 GB de datos: $10.\n",
      "////////////\n",
      "Ultimate\n",
      "\n",
      "Pago mensual: $70.\n",
      "3000 minutos al mes, 1000 SMS y 30 GB de datos.\n",
      "Si se exceden los límites del paquete:\n",
      "1 minuto: 1 centavo.\n",
      "1 SMS: 1 centavo.\n",
      "1 GB de datos: $7.\n"
     ]
    }
   ],
   "source": [
    "# Imprime las condiciones de la tarifa y asegúrate de que te quedan claras\n",
    "print('Surf\\n1. Pago mensual: $20.\\n2. 500 minutos al mes, 50 SMS y 15 GB de datos.\\n3. Si se exceden los límites del paquete:\\n    - 1 minuto: 3 centavos.\\n    - 1 SMS: 3 centavos.\\n    - 1 GB de datos: $10.')\n",
    "print('////////////')\n",
    "print('Ultimate\\n\\nPago mensual: $70.\\n3000 minutos al mes, 1000 SMS y 30 GB de datos.\\nSi se exceden los límites del paquete:\\n1 minuto: 1 centavo.\\n1 SMS: 1 centavo.\\n1 GB de datos: $7.')\n",
    "\n"
   ]
  },
  {
   "cell_type": "markdown",
   "metadata": {},
   "source": [
    "<div class=\"alert alert-block alert-danger\">\n",
    "<b>Comentario del revisor (1ra Iteracion)</b> <a class=“tocSkip”></a>\n",
    "\n",
    "Cuando quieras escribir algo siempre utiliza celdas markdown, además, aquí deberías usar el dataset donde están los datos de las tarifas más no escribir manualmente\n",
    "</div>"
   ]
  },
  {
   "cell_type": "markdown",
   "metadata": {
    "id": "hMR1tP5d0q1F"
   },
   "source": [
    "## Agregar datos por usuario\n",
    "\n",
    "[Ahora que los datos están limpios, agrega los datos por usuario y por periodo para que solo haya un registro por usuario y por periodo. Esto facilitará mucho el análisis posterior.]"
   ]
  },
  {
   "cell_type": "markdown",
   "metadata": {},
   "source": [
    "<div class=\"alert alert-block alert-danger\">\n",
    "<b>Comentario del revisor (1ra Iteracion)</b> <a class=“tocSkip”></a>\n",
    "\n",
    "La agregación de los datos no debe ser con pivot_tabl, debes utilizar `groupby`, así evitas sobre utilizar recursos computacionales y escribir tanto código\n",
    "</div>"
   ]
  },
  {
   "cell_type": "code",
   "execution_count": 25,
   "metadata": {
    "id": "A332cedB0q1G"
   },
   "outputs": [
    {
     "name": "stdout",
     "output_type": "stream",
     "text": [
      "     user_id  jan  feb  mar  apr  may  jun  jul  aug  sep  oct  nov  dec  \\\n",
      "0       1000    0    0    0    0    0    0    0    0    0    0    0   16   \n",
      "1       1001    0    0    0    0    0    0    0   27   49   65   64   56   \n",
      "2       1002    0    0    0    0    0    0    0    0    0   11   55   47   \n",
      "3       1003    0    0    0    0    0    0    0    0    0    0    0  149   \n",
      "4       1004    0    0    0    0   21   44   49   49   42   61   54   50   \n",
      "..       ...  ...  ...  ...  ...  ...  ...  ...  ...  ...  ...  ...  ...   \n",
      "495     1495    0    0    0    0    0    0    0    0   52   75   61   65   \n",
      "496     1496    0    0    0    0    0    0    0   18   52   46   39   40   \n",
      "497     1497    0    0    0    0    0    0    0    0    0    0    0   54   \n",
      "498     1498    0   37   37   47   35   37   43   44   45   46   41   39   \n",
      "499     1499    0    0    0    0    0    0    0    0   41   53   45   65   \n",
      "\n",
      "     total_calls  \n",
      "0             16  \n",
      "1            261  \n",
      "2            113  \n",
      "3            149  \n",
      "4            370  \n",
      "..           ...  \n",
      "495          253  \n",
      "496          195  \n",
      "497           54  \n",
      "498          451  \n",
      "499          204  \n",
      "\n",
      "[500 rows x 14 columns]\n"
     ]
    }
   ],
   "source": [
    "# Calcula el número de llamadas hechas por cada usuario al mes. Guarda el resultado.\n",
    "calls_by_month = pd.DataFrame(columns=['user_id', 'jan', 'feb', 'mar', 'apr', 'may', 'jun', 'jul', 'aug', 'sep', 'oct', 'nov', 'dec', 'total_calls'])\n",
    "calls_by_month['user_id'] = dt_megaline_users['user_id'] #rellena la columna 'user_id'\n",
    "month_columns = ['jan', 'feb', 'mar', 'apr', 'may', 'jun',\n",
    "                 'jul', 'aug', 'sep', 'oct', 'nov', 'dec']\n",
    "\n",
    "# Process each month and populate DataFrame A\n",
    "for month_num, month_col in enumerate(month_columns, start=1):\n",
    "    # filter current month\n",
    "    monthly_calls = dt_megaline_calls[dt_megaline_calls['call_date'].dt.month == month_num]\n",
    "\n",
    "    # count unique call IDs\n",
    "    monthly_counts = monthly_calls.groupby('user_id')['id'].count().rename(month_col)\n",
    "\n",
    "    calls_by_month[month_col] = calls_by_month['user_id'].map(monthly_counts).fillna(0).astype(int)\n",
    "\n",
    "calls_by_month['total_calls'] = calls_by_month[month_columns].sum(axis=1)\n",
    "\n",
    "print(calls_by_month)\n"
   ]
  },
  {
   "cell_type": "code",
   "execution_count": 26,
   "metadata": {
    "id": "aw2cmuql0q1G"
   },
   "outputs": [],
   "source": [
    "# Calcula la cantidad de minutos usados por cada usuario al mes. Guarda el resultado.\n",
    "\n"
   ]
  },
  {
   "cell_type": "code",
   "execution_count": 27,
   "metadata": {},
   "outputs": [
    {
     "name": "stdout",
     "output_type": "stream",
     "text": [
      "     user_id  jan    feb    mar    apr    may    jun    jul    aug    sep  \\\n",
      "0       1000  0.0    0.0    0.0    0.0    0.0    0.0    0.0    0.0    0.0   \n",
      "1       1001  0.0    0.0    0.0    0.0    0.0    0.0    0.0  182.0  315.0   \n",
      "2       1002  0.0    0.0    0.0    0.0    0.0    0.0    0.0    0.0    0.0   \n",
      "3       1003  0.0    0.0    0.0    0.0    0.0    0.0    0.0    0.0    0.0   \n",
      "4       1004  0.0    0.0    0.0    0.0  193.0  275.0  381.0  354.0  301.0   \n",
      "..       ...  ...    ...    ...    ...    ...    ...    ...    ...    ...   \n",
      "495     1495  0.0    0.0    0.0    0.0    0.0    0.0    0.0    0.0  302.0   \n",
      "496     1496  0.0    0.0    0.0    0.0    0.0    0.0    0.0  122.0  414.0   \n",
      "497     1497  0.0    0.0    0.0    0.0    0.0    0.0    0.0    0.0    0.0   \n",
      "498     1498  0.0  244.0  266.0  365.0  288.0  238.0  321.0  266.0  363.0   \n",
      "499     1499  0.0    0.0    0.0    0.0    0.0    0.0    0.0    0.0  346.0   \n",
      "\n",
      "       oct    nov     dec  total_mins  \n",
      "0      0.0    0.0   124.0       124.0  \n",
      "1    393.0  426.0   412.0      1728.0  \n",
      "2     59.0  386.0   384.0       829.0  \n",
      "3      0.0    0.0  1104.0      1104.0  \n",
      "4    365.0  476.0   427.0      2772.0  \n",
      "..     ...    ...     ...         ...  \n",
      "495  610.0  361.0   492.0      1765.0  \n",
      "496  317.0  308.0   294.0      1455.0  \n",
      "497    0.0    0.0   300.0       300.0  \n",
      "498  298.0  223.0   339.0      3211.0  \n",
      "499  385.0  308.0   496.0      1535.0  \n",
      "\n",
      "[500 rows x 14 columns]\n"
     ]
    }
   ],
   "source": [
    "#crear dataframe con las columnas necesarias, una para cada mes, una para cada usuario y una para el total.\n",
    "mins_by_month = pd.DataFrame(columns=['user_id', 'jan', 'feb', 'mar', 'apr', 'may', 'jun', 'jul', 'aug', 'sep', 'oct', 'nov', 'dec', 'total_mins'])\n",
    "mins_by_month['user_id'] = dt_megaline_users['user_id'] #rellena la columna 'user_id'\n",
    "# calculate total duration per user per month\n",
    "monthly_totals = (\n",
    "    dt_megaline_calls\n",
    "    .assign(month=dt_megaline_calls['call_date'].dt.month)\n",
    "    .groupby(['user_id', 'month'])['duration']\n",
    "    .sum()\n",
    "    .reset_index()\n",
    ")\n",
    "#print(monthly_totals)\n",
    "# Pivot table\n",
    "pivoted = monthly_totals.pivot(\n",
    "    index='user_id',\n",
    "    columns='month',\n",
    "    values='duration'\n",
    ").fillna(0)\n",
    "\n",
    "#print(pivoted)\n",
    "# Rename columns to months\n",
    "month_map = {\n",
    "    1: \"jan\",\n",
    "    2: \"feb\",\n",
    "    3: \"mar\",\n",
    "    4: \"apr\",\n",
    "    5: \"may\",\n",
    "    6: \"jun\",\n",
    "    7: \"jul\",\n",
    "    8: \"aug\",\n",
    "    9: \"sep\",\n",
    "    10: \"oct\",\n",
    "    11: \"nov\",\n",
    "    12: \"dec\"\n",
    "} # para todos los otros dataframes\n",
    "pivoted = pivoted.rename(columns=month_map)\n",
    "\n",
    "#print(pivoted)\n",
    "# Update calls_by_month\n",
    "mins_by_month = mins_by_month.set_index('user_id')\n",
    "mins_by_month.update(pivoted)\n",
    "mins_by_month = mins_by_month.reset_index()\n",
    "\n",
    "# Calculate total by client\n",
    "month_cols = ['jan', 'feb', 'mar', 'apr', 'may', 'jun',\n",
    "                 'jul', 'aug', 'sep', 'oct', 'nov', 'dec']\n",
    "mins_by_month['total_mins'] = mins_by_month[month_cols].sum(axis=1)\n",
    "\n",
    "\n",
    "#revisar resultados\n",
    "print(mins_by_month)"
   ]
  },
  {
   "cell_type": "code",
   "execution_count": 28,
   "metadata": {
    "id": "CcQvNHn60q1G"
   },
   "outputs": [],
   "source": [
    "# Calcula el número de mensajes enviados por cada usuario al mes. Guarda el resultado.\n",
    "\n"
   ]
  },
  {
   "cell_type": "code",
   "execution_count": 29,
   "metadata": {},
   "outputs": [
    {
     "name": "stdout",
     "output_type": "stream",
     "text": [
      "     user_id  jan  feb  mar  apr  may   jun   jul   aug   sep   oct   nov  \\\n",
      "0       1000  0.0  0.0  0.0  0.0  0.0   0.0   0.0   0.0   0.0   0.0   0.0   \n",
      "1       1001  0.0  0.0  0.0  0.0  0.0   0.0   0.0  30.0  44.0  53.0  36.0   \n",
      "2       1002  0.0  0.0  0.0  0.0  0.0   0.0   0.0   0.0   0.0  15.0  32.0   \n",
      "3       1003  0.0  0.0  0.0  0.0  0.0   0.0   0.0   0.0   0.0   0.0   0.0   \n",
      "4       1004  0.0  0.0  0.0  0.0  7.0  18.0  26.0  25.0  21.0  24.0  25.0   \n",
      "..       ...  ...  ...  ...  ...  ...   ...   ...   ...   ...   ...   ...   \n",
      "495     1495  0.0  0.0  0.0  0.0  0.0   0.0   0.0   0.0   0.0   0.0   0.0   \n",
      "496     1496  0.0  0.0  0.0  0.0  0.0   0.0   0.0   2.0  21.0  18.0  13.0   \n",
      "497     1497  0.0  0.0  0.0  0.0  0.0   0.0   0.0   0.0   0.0   0.0   0.0   \n",
      "498     1498  0.0  0.0  0.0  0.0  0.0   0.0   0.0   0.0   0.0   0.0   0.0   \n",
      "499     1499  0.0  0.0  0.0  0.0  0.0   0.0   0.0   0.0   0.0   0.0   0.0   \n",
      "\n",
      "      dec  total_messages  \n",
      "0    11.0            11.0  \n",
      "1    44.0           207.0  \n",
      "2    41.0            88.0  \n",
      "3    50.0            50.0  \n",
      "4    31.0           177.0  \n",
      "..    ...             ...  \n",
      "495   0.0             0.0  \n",
      "496  11.0            65.0  \n",
      "497  50.0            50.0  \n",
      "498   0.0             0.0  \n",
      "499   0.0             0.0  \n",
      "\n",
      "[500 rows x 14 columns]\n"
     ]
    }
   ],
   "source": [
    "messages_by_month = pd.DataFrame(columns=['user_id', 'jan', 'feb', 'mar', 'apr', 'may', 'jun', 'jul', 'aug', 'sep', 'oct', 'nov', 'dec', 'total_messages'])\n",
    "messages_by_month['user_id'] = dt_megaline_users['user_id'] #rellena la columna 'user_id'\n",
    "\n",
    "\n",
    "# Calculate messages per user per month\n",
    "monthly_counts = (\n",
    "    dt_megaline_messages\n",
    "    .assign(month=dt_megaline_messages['message_date'].dt.month)\n",
    "    .groupby(['user_id', 'month'])\n",
    "    .size()\n",
    "    .reset_index(name='count')\n",
    ")\n",
    "\n",
    "# Pivot and reshape\n",
    "pivoted = monthly_counts.pivot(\n",
    "    index='user_id',\n",
    "    columns='month',\n",
    "    values='count'\n",
    ")\n",
    "pivoted = pivoted.reindex(columns=range(1, 13)).fillna(0)\n",
    "\n",
    "# Rename columns to month abbreviations\n",
    "pivoted = pivoted.rename(columns=month_map)\n",
    "\n",
    "# Update messages_by_month\n",
    "messages_by_month = messages_by_month.set_index('user_id')\n",
    "messages_by_month.update(pivoted)\n",
    "messages_by_month = messages_by_month.fillna(0).reset_index()\n",
    "\n",
    "# calculate total_messages\n",
    "\n",
    "messages_by_month['total_messages'] = messages_by_month[month_cols].sum(axis=1)\n",
    "print(messages_by_month)"
   ]
  },
  {
   "cell_type": "code",
   "execution_count": 30,
   "metadata": {
    "id": "H1AqN2eG0q1H"
   },
   "outputs": [],
   "source": [
    "# Calcula el volumen del tráfico de Internet usado por cada usuario al mes. Guarda el resultado.\n",
    "\n"
   ]
  },
  {
   "cell_type": "code",
   "execution_count": 31,
   "metadata": {},
   "outputs": [
    {
     "name": "stdout",
     "output_type": "stream",
     "text": [
      "     user_id  jan       feb       mar       apr       may       jun       jul  \\\n",
      "0       1000  0.0      0.00      0.00      0.00      0.00      0.00      0.00   \n",
      "1       1001  0.0      0.00      0.00      0.00      0.00      0.00      0.00   \n",
      "2       1002  0.0      0.00      0.00      0.00      0.00      0.00      0.00   \n",
      "3       1003  0.0      0.00      0.00      0.00      0.00      0.00      0.00   \n",
      "4       1004  0.0      0.00      0.00      0.00   6547.21  20672.82  24516.62   \n",
      "..       ...  ...       ...       ...       ...       ...       ...       ...   \n",
      "495     1495  0.0      0.00      0.00      0.00      0.00      0.00      0.00   \n",
      "496     1496  0.0      0.00      0.00      0.00      0.00      0.00      0.00   \n",
      "497     1497  0.0      0.00      0.00      0.00      0.00      0.00      0.00   \n",
      "498     1498  0.0  19822.04  19744.34  19878.86  22462.17  14807.18  24834.37   \n",
      "499     1499  0.0      0.00      0.00      0.00      0.00      0.00      0.00   \n",
      "\n",
      "          aug       sep       oct       nov       dec   total_mb  total_gb  \n",
      "0        0.00      0.00      0.00      0.00   1901.47    1901.47         2  \n",
      "1     6919.15  13314.82  22330.49  18504.30  19369.18   80437.94        79  \n",
      "2        0.00      0.00   6552.01  19345.08  14396.24   40293.33        40  \n",
      "3        0.00      0.00      0.00      0.00  27044.14   27044.14        27  \n",
      "4    27981.74  18852.72  14541.63  21850.78  21389.29  156352.81       153  \n",
      "..        ...       ...       ...       ...       ...        ...       ...  \n",
      "495      0.00  22981.37  26899.41  24912.78  24097.40   98890.96        97  \n",
      "496   8605.66  16389.27  14287.36   8547.36  16438.99   64268.64        63  \n",
      "497      0.00      0.00      0.00      0.00  11106.55   11106.55        11  \n",
      "498  20261.89  22827.28  20580.76  19168.55  23137.69  227525.13       223  \n",
      "499      0.00  12984.76  19492.43  16813.83  22059.21   71350.23        70  \n",
      "\n",
      "[500 rows x 15 columns]\n"
     ]
    }
   ],
   "source": [
    "mb_by_month = pd.DataFrame(columns=['user_id', 'jan', 'feb', 'mar', 'apr', 'may', 'jun',\n",
    "                                    'jul', 'aug', 'sep', 'oct', 'nov', 'dec', 'total_mb', 'total_gb'])\n",
    "mb_by_month['user_id'] = dt_megaline_users['user_id']\n",
    "\n",
    "# calculate mb used per user per month\n",
    "monthly_mb = (\n",
    "    dt_megaline_internet\n",
    "    .assign(month=dt_megaline_internet['session_date'].dt.month)  # Extract month (1-12)\n",
    "    .groupby(['user_id', 'month'])['mb_used'].sum()  # Sum MB per user/month\n",
    "    .reset_index(name='mb_used')\n",
    ")\n",
    "\n",
    "# Pivot\n",
    "pivoted = monthly_mb.pivot(\n",
    "    index='user_id',\n",
    "    columns='month',\n",
    "    values='mb_used'\n",
    ")\n",
    "\n",
    "pivoted = pivoted.reindex(columns=range(1, 13), fill_value=0)\n",
    "\n",
    "# rename columns\n",
    "pivoted = pivoted.rename(columns=month_map)\n",
    "\n",
    "# update mb_by_month\n",
    "mb_by_month = mb_by_month.set_index('user_id')\n",
    "mb_by_month.update(pivoted)\n",
    "mb_by_month = mb_by_month.reset_index()\n",
    "mb_by_month = mb_by_month.fillna(0) #cambiar a 0\n",
    "\n",
    "# calculate total_mb and total_gb\n",
    "\n",
    "mb_by_month['total_mb'] = mb_by_month[month_cols].sum(axis=1)\n",
    "mb_by_month['total_gb'] = np.ceil(mb_by_month['total_mb'] / 1024).astype(int)  # conversion al siguiente GB\n",
    "\n",
    "print(mb_by_month)"
   ]
  },
  {
   "cell_type": "markdown",
   "metadata": {
    "id": "VDfYXnj80q1H"
   },
   "source": [
    "[Junta los datos agregados en un DataFrame para que haya un registro que represente lo que consumió un usuario único en un mes determinado.]"
   ]
  },
  {
   "cell_type": "code",
   "execution_count": 32,
   "metadata": {
    "id": "FW99ykyf0q1H"
   },
   "outputs": [],
   "source": [
    "# Fusiona los datos de llamadas, minutos, mensajes e Internet con base en user_id y month\n",
    "\n"
   ]
  },
  {
   "cell_type": "code",
   "execution_count": 33,
   "metadata": {},
   "outputs": [
    {
     "name": "stdout",
     "output_type": "stream",
     "text": [
      "      user_id month        gb\n",
      "0        1000   jan      0.00\n",
      "1        1001   jan      0.00\n",
      "2        1002   jan      0.00\n",
      "3        1003   jan      0.00\n",
      "4        1004   jan      0.00\n",
      "...       ...   ...       ...\n",
      "5995     1495   dec  24097.40\n",
      "5996     1496   dec  16438.99\n",
      "5997     1497   dec  11106.55\n",
      "5998     1498   dec  23137.69\n",
      "5999     1499   dec  22059.21\n",
      "\n",
      "[6000 rows x 3 columns]\n"
     ]
    }
   ],
   "source": [
    "# Reshape de df antes de merge\n",
    "def reshape_long(df, value_name):\n",
    "\n",
    "    month_columns = ['jan', 'feb', 'mar', 'apr', 'may', 'jun',\n",
    "                     'jul', 'aug', 'sep', 'oct', 'nov', 'dec']\n",
    "    return df.melt(\n",
    "        id_vars='user_id',\n",
    "        value_vars=month_columns,\n",
    "        var_name='month',\n",
    "        value_name=value_name\n",
    "    )\n",
    "\n",
    "\n",
    "\n",
    "long_calls_by_month = reshape_long(calls_by_month, 'calls')\n",
    "long_mins_by_month = reshape_long(mins_by_month, 'minutes')\n",
    "long_messages_by_month = reshape_long(messages_by_month, 'messages')\n",
    "long_mb_by_month = reshape_long(mb_by_month, 'gb')\n",
    "\n",
    "#print(long_calls_by_month.head(15)) # revision\n",
    "#print(long_mins_by_month.head(15))\n",
    "#print(long_messages_by_month.head(15))\n",
    "print(long_mb_by_month)"
   ]
  },
  {
   "cell_type": "code",
   "execution_count": 34,
   "metadata": {},
   "outputs": [
    {
     "name": "stdout",
     "output_type": "stream",
     "text": [
      "      user_id month  calls minutes  messages  gb\n",
      "0        1000   jan      0     0.0       0.0   0\n",
      "1        1000   feb      0     0.0       0.0   0\n",
      "2        1000   mar      0     0.0       0.0   0\n",
      "3        1000   apr      0     0.0       0.0   0\n",
      "4        1000   may      0     0.0       0.0   0\n",
      "...       ...   ...    ...     ...       ...  ..\n",
      "5995     1499   aug      0     0.0       0.0   0\n",
      "5996     1499   sep     41   346.0       0.0  13\n",
      "5997     1499   oct     53   385.0       0.0  20\n",
      "5998     1499   nov     45   308.0       0.0  17\n",
      "5999     1499   dec     65   496.0       0.0  22\n",
      "\n",
      "[6000 rows x 6 columns]\n"
     ]
    }
   ],
   "source": [
    "merged_data_complete = long_calls_by_month.merge(\n",
    "    long_mins_by_month, on=['user_id', 'month'], how='outer'\n",
    ").merge(\n",
    "    long_messages_by_month, on=['user_id', 'month'], how='outer'\n",
    ").merge(\n",
    "    long_mb_by_month, on=['user_id', 'month'], how='outer'\n",
    ")\n",
    "\n",
    "# Calculate GB\n",
    "merged_data_complete['gb'] = np.ceil(merged_data_complete['gb'] / 1024).astype(int)\n",
    "# Reorder df\n",
    "merged_data_complete['month'] = pd.Categorical(\n",
    "        merged_data_complete['month'],\n",
    "        categories=month_cols,\n",
    "        ordered=True\n",
    ")\n",
    "# reset Index\n",
    "merged_data_complete = merged_data_complete.sort_values(by=['user_id', 'month'])\n",
    "merged_data_complete = merged_data_complete.reset_index(drop=True)\n",
    "print(merged_data_complete)"
   ]
  },
  {
   "cell_type": "code",
   "execution_count": 35,
   "metadata": {
    "id": "0dNOXHag0q1H"
   },
   "outputs": [
    {
     "name": "stdout",
     "output_type": "stream",
     "text": [
      "      user_id month  calls minutes  messages  gb      plan\n",
      "0        1000   jan      0     0.0       0.0   0  ultimate\n",
      "1        1000   feb      0     0.0       0.0   0  ultimate\n",
      "2        1000   mar      0     0.0       0.0   0  ultimate\n",
      "3        1000   apr      0     0.0       0.0   0  ultimate\n",
      "4        1000   may      0     0.0       0.0   0  ultimate\n",
      "...       ...   ...    ...     ...       ...  ..       ...\n",
      "5995     1499   aug      0     0.0       0.0   0      surf\n",
      "5996     1499   sep     41   346.0       0.0  13      surf\n",
      "5997     1499   oct     53   385.0       0.0  20      surf\n",
      "5998     1499   nov     45   308.0       0.0  17      surf\n",
      "5999     1499   dec     65   496.0       0.0  22      surf\n",
      "\n",
      "[6000 rows x 7 columns]\n"
     ]
    }
   ],
   "source": [
    "# Añade la información de la tarifa\n",
    "\n",
    "# Extraer el usuario con su tarifa\n",
    "df_plans_users = dt_megaline_users[['user_id', 'plan']]\n",
    "\n",
    "# Merge\n",
    "merged_data_complete = merged_data_complete.merge(\n",
    "    df_plans_users,\n",
    "    on='user_id',\n",
    "    how='left'\n",
    ")\n",
    "\n",
    "\n",
    "print(merged_data_complete) # Revisar\n",
    "\n",
    "# Agrega tariff values\n",
    "plan_details = pd.DataFrame({ # datafram de valores para merge\n",
    "    'plan': ['surf', 'ultimate'],\n",
    "    'monthly_fee': [20, 70],  # Base monthly fee\n",
    "    'included_minutes': [500, 3000],  # Monthly minute\n",
    "    'included_messages': [50, 1000],  # Monthly message\n",
    "    'included_gb': [15, 30],  # Monthly data\n",
    "    'minute_exceed_rate': [0.03, 0.01],  # Cost extra minute\n",
    "    'sms_exceed_rate': [0.03, 0.01],  # Cost extra SMS\n",
    "    'gb_exceed_rate': [10, 7]  # Costo extra GB\n",
    "})\n",
    "merged_data_complete = pd.merge(merged_data_complete, plan_details, on='plan', how='left')\n",
    "#print(merged_data_complete.info())"
   ]
  },
  {
   "cell_type": "markdown",
   "metadata": {
    "id": "1IwGo4wg0q1I"
   },
   "source": [
    "[Calcula los ingresos mensuales por usuario (resta el límite del paquete gratuito del número total de llamadas, mensajes de texto y datos; multiplica el resultado por el valor del plan de llamadas; añade la tarifa mensual en función del plan de llamadas). Nota: Dadas las condiciones del plan, ¡esto podría no ser tan trivial como un par de líneas! Así que no pasa nada si dedicas algo de tiempo a ello.]"
   ]
  },
  {
   "cell_type": "code",
   "execution_count": 36,
   "metadata": {
    "id": "5FGCf_c60q1I"
   },
   "outputs": [],
   "source": [
    "# Calcula el ingreso mensual para cada usuario\n",
    "# Minutes\n",
    "merged_data_complete['minute_exceed_cost'] = (\n",
    "    (merged_data_complete['minutes'] - merged_data_complete['included_minutes'])\n",
    "    .clip(lower=0)\n",
    "    * merged_data_complete['minute_exceed_rate']\n",
    ")\n",
    "# messages (sms)\n",
    "merged_data_complete['sms_exceed_cost'] = (\n",
    "    (merged_data_complete['messages'] - merged_data_complete['included_messages'])\n",
    "    .clip(lower=0)\n",
    "    * merged_data_complete['sms_exceed_rate']\n",
    ")\n",
    "# data\n",
    "merged_data_complete['gb_exceed_cost'] = (\n",
    "    (merged_data_complete['gb'] - merged_data_complete['included_gb'])\n",
    "    .clip(lower=0)\n",
    "    * merged_data_complete['gb_exceed_rate']\n",
    ")\n",
    "merged_data_complete['minute_exceed_cost'].fillna(0, inplace=True)\n",
    "merged_data_complete['minutes'].fillna(0, inplace=True)\n",
    "\n",
    "#merged_data_complete.info() # Revisar datos\n",
    "# Add total_cost per month\n",
    "merged_data_complete['total_cost'] = (\n",
    "    merged_data_complete['monthly_fee']\n",
    "    + merged_data_complete['minute_exceed_cost']\n",
    "    + merged_data_complete['sms_exceed_cost']\n",
    "    + merged_data_complete['gb_exceed_cost']\n",
    ")\n",
    "#print(merged_data_complete.head(40)) #Revisar datos\n"
   ]
  },
  {
   "cell_type": "markdown",
   "metadata": {
    "id": "-jtyHzJb0q1I"
   },
   "source": [
    "## Estudia el comportamiento de usuario"
   ]
  },
  {
   "cell_type": "markdown",
   "metadata": {
    "id": "AxU3Y0N70q1J"
   },
   "source": [
    "[Calcula algunas estadísticas descriptivas para los datos agregados y fusionados que nos sean útiles y que muestren un panorama general captado por los datos. Dibuja gráficos útiles para facilitar la comprensión. Dado que la tarea principal es comparar las tarifas y decidir cuál es más rentable, las estadísticas y gráficas deben calcularse por tarifa.]\n",
    "\n",
    "[En los comentarios hallarás pistas relevantes para las llamadas, pero no las hay para los mensajes e Internet. Sin embargo, el principio del estudio estadístico que se aplica para ellos es el mismo que para las llamadas.]"
   ]
  },
  {
   "cell_type": "markdown",
   "metadata": {
    "id": "vtW4CJEe0q1J"
   },
   "source": [
    "### Llamadas"
   ]
  },
  {
   "cell_type": "code",
   "execution_count": 37,
   "metadata": {
    "id": "Jf5v5--k0q1J"
   },
   "outputs": [],
   "source": [
    "# Compara la duración promedio de llamadas por cada plan y por cada mes. Traza un gráfico de barras para visualizarla.\n",
    "\n"
   ]
  },
  {
   "cell_type": "code",
   "execution_count": 38,
   "metadata": {},
   "outputs": [
    {
     "name": "stdout",
     "output_type": "stream",
     "text": [
      "      user_id month  calls  minutes  messages  gb      plan  monthly_fee  \\\n",
      "0        1000   jan      0      0.0       0.0   0  ultimate           70   \n",
      "1        1000   feb      0      0.0       0.0   0  ultimate           70   \n",
      "2        1000   mar      0      0.0       0.0   0  ultimate           70   \n",
      "3        1000   apr      0      0.0       0.0   0  ultimate           70   \n",
      "4        1000   may      0      0.0       0.0   0  ultimate           70   \n",
      "...       ...   ...    ...      ...       ...  ..       ...          ...   \n",
      "5995     1499   aug      0      0.0       0.0   0      surf           20   \n",
      "5996     1499   sep     41    346.0       0.0  13      surf           20   \n",
      "5997     1499   oct     53    385.0       0.0  20      surf           20   \n",
      "5998     1499   nov     45    308.0       0.0  17      surf           20   \n",
      "5999     1499   dec     65    496.0       0.0  22      surf           20   \n",
      "\n",
      "      minute_exceed_cost  sms_exceed_cost  gb_exceed_cost  total_cost  \n",
      "0                    0.0              0.0               0        70.0  \n",
      "1                    0.0              0.0               0        70.0  \n",
      "2                    0.0              0.0               0        70.0  \n",
      "3                    0.0              0.0               0        70.0  \n",
      "4                    0.0              0.0               0        70.0  \n",
      "...                  ...              ...             ...         ...  \n",
      "5995                 0.0              0.0               0        20.0  \n",
      "5996                 0.0              0.0               0        20.0  \n",
      "5997                 0.0              0.0              50        70.0  \n",
      "5998                 0.0              0.0              20        40.0  \n",
      "5999                 0.0              0.0              70        90.0  \n",
      "\n",
      "[6000 rows x 12 columns]\n",
      "/////////////////\n",
      "<class 'pandas.core.frame.DataFrame'>\n",
      "Int64Index: 6000 entries, 0 to 5999\n",
      "Data columns (total 12 columns):\n",
      " #   Column              Non-Null Count  Dtype   \n",
      "---  ------              --------------  -----   \n",
      " 0   user_id             6000 non-null   int64   \n",
      " 1   month               6000 non-null   category\n",
      " 2   calls               6000 non-null   int64   \n",
      " 3   minutes             6000 non-null   float64 \n",
      " 4   messages            6000 non-null   float64 \n",
      " 5   gb                  6000 non-null   int64   \n",
      " 6   plan                6000 non-null   object  \n",
      " 7   monthly_fee         6000 non-null   int64   \n",
      " 8   minute_exceed_cost  6000 non-null   float64 \n",
      " 9   sms_exceed_cost     6000 non-null   float64 \n",
      " 10  gb_exceed_cost      6000 non-null   int64   \n",
      " 11  total_cost          6000 non-null   float64 \n",
      "dtypes: category(1), float64(5), int64(5), object(1)\n",
      "memory usage: 568.7+ KB\n",
      "None\n"
     ]
    }
   ],
   "source": [
    "# Clean dataframe\n",
    "columns_erase = ['included_minutes', 'included_messages', 'included_gb', 'minute_exceed_rate', 'sms_exceed_rate', 'gb_exceed_rate'] # Columns to erase\n",
    "data_complete_clean = merged_data_complete.drop(columns=columns_erase)\n",
    "data_complete_clean.sort_values(by=['user_id', 'month'])\n",
    "print(data_complete_clean)\n",
    "print('/////////////////')\n",
    "print(data_complete_clean.info())"
   ]
  },
  {
   "cell_type": "code",
   "execution_count": 39,
   "metadata": {},
   "outputs": [
    {
     "name": "stdout",
     "output_type": "stream",
     "text": [
      "['jan', 'feb', 'mar', 'apr', 'may', 'jun', 'jul', 'aug', 'sep', 'oct', 'nov', 'dec']\n"
     ]
    },
    {
     "data": {
      "image/png": "[encoded data removed]",
      "text/plain": [
       "<Figure size 1600x600 with 1 Axes>"
      ]
     },
     "metadata": {},
     "output_type": "display_data"
    }
   ],
   "source": [
    "print(month_cols)\n",
    "avg_minutes = data_complete_clean.groupby(['plan', 'month'])['minutes'].mean().reset_index()\n",
    "#print(avg_minutes)\n",
    "plt.figure(figsize=(16, 6))\n",
    "sns.barplot(\n",
    "    data = avg_minutes,\n",
    "    x = 'month',\n",
    "    y = 'minutes',\n",
    "    hue = 'plan',\n",
    "    palette = {'surf': '#3B5055', 'ultimate': '#FFB26F'},\n",
    "    order = month_cols\n",
    ")\n",
    "plt.title('Duración Promedio de Llamadas por Plan y Mes', fontsize=14)\n",
    "plt.xlabel('Mes', fontsize=12)\n",
    "plt.ylabel('Minutos Promedio', fontsize=12)\n",
    "plt.xticks(rotation=45)\n",
    "plt.legend(title='Plan', loc='upper left')\n",
    "\n",
    "# Mostrar el gráfico\n",
    "plt.show()"
   ]
  },
  {
   "cell_type": "code",
   "execution_count": 40,
   "metadata": {
    "id": "QoLqW1S_0q1J"
   },
   "outputs": [
    {
     "name": "stdout",
     "output_type": "stream",
     "text": [
      "Promedio y Varianza Surf\n",
      "436.80246113989637\n",
      "52481.561082726934\n",
      "/////////////////////////////////////////////\n",
      "Promedio y Varianza Ultimate\n",
      "435.2865168539326\n",
      "56387.08516253417\n",
      "/////////////////////////////////////////////\n"
     ]
    },
    {
     "data": {
      "image/png": "[encoded data removed]",
      "text/plain": [
       "<Figure size 1600x600 with 1 Axes>"
      ]
     },
     "metadata": {},
     "output_type": "display_data"
    }
   ],
   "source": [
    "# Compara el número de minutos mensuales que necesitan los usuarios de cada plan. Traza un histograma.\n",
    "# Compara el número de minutos mensuales que necesitan los usuarios de cada plan. Traza un histograma.\n",
    "surf_data = data_complete_clean[data_complete_clean['plan'] == 'surf']\n",
    "surf_data = surf_data[surf_data['minutes'] > 0] # Eliminate 0,  son clientes inactivos\n",
    "ultimate_data = data_complete_clean[data_complete_clean['plan'] == 'ultimate']\n",
    "ultimate_data = ultimate_data[ultimate_data['minutes'] > 0] # Eliminate 0, son clientes inactivos\n",
    "####revisar df\n",
    "#print(surf_data)\n",
    "#print(ultimate_data)\n",
    "####\n",
    "plt.figure(figsize=(16, 6))\n",
    "sns.histplot( # Surf hist\n",
    "    surf_data['minutes'],\n",
    "    bins=15,\n",
    "    color='#3B5055',\n",
    "    alpha=0.4,\n",
    "    label='Surf'\n",
    ")\n",
    "\n",
    "sns.histplot( # ultimate hist\n",
    "    ultimate_data['minutes'],\n",
    "    bins=15,\n",
    "    color='#FFB26F',\n",
    "    alpha=0.6,\n",
    "    label='Ultimate',\n",
    "\n",
    ")\n",
    "plt.title('Minutos Mensuales por Plan', fontsize=14)\n",
    "plt.xlabel('Minutos', fontsize=12)\n",
    "plt.ylabel('Frecuencia', fontsize=12)\n",
    "plt.legend(title='Plan')\n",
    "# Mostrar mean and var\n",
    "print('Promedio y Varianza Surf')\n",
    "print(surf_data['minutes'].mean())\n",
    "print(surf_data['minutes'].var())\n",
    "print('/////////////////////////////////////////////')\n",
    "print('Promedio y Varianza Ultimate')\n",
    "print(ultimate_data['minutes'].mean())\n",
    "print(ultimate_data['minutes'].var())   \n",
    "print('/////////////////////////////////////////////')\n",
    "# mostrar grafico\n",
    "plt.show()\n"
   ]
  },
  {
   "cell_type": "markdown",
   "metadata": {
    "id": "bLS9T8OH0q1K"
   },
   "source": [
    "[Calcula la media y la variable de la duración de las llamadas para averiguar si los usuarios de los distintos planes se comportan de forma diferente al realizar sus llamadas.]"
   ]
  },
  {
   "cell_type": "code",
   "execution_count": 41,
   "metadata": {
    "id": "oSndbAnt0q1K"
   },
   "outputs": [
    {
     "name": "stdout",
     "output_type": "stream",
     "text": [
      "Promedio y Varianza General Duracion llamadas\n",
      "   month     mean           var\n",
      "0    jan    2.360    591.104609\n",
      "1    feb   10.990   5511.641182\n",
      "2    mar   22.482   9684.242160\n",
      "3    apr   49.302  21115.934665\n",
      "4    may   85.098  38533.824044\n",
      "5    jun  118.542  47730.300838\n",
      "6    jul  159.290  68345.015932\n",
      "7    aug  192.720  67718.161924\n",
      "8    sep  235.972  71646.684585\n",
      "9    oct  299.248  77278.792080\n",
      "10   nov  352.682  71907.471820\n",
      "11   dec  440.008  72077.931800\n",
      "/////////////////////////////////////////////\n",
      "\n",
      "Promedio y Varianza Surf Duracion llamadas\n",
      "   month        mean           var\n",
      "0    jan    1.197640    289.271474\n",
      "1    feb    7.884956   3522.534063\n",
      "2    mar   22.389381   9238.374561\n",
      "3    apr   51.849558  22958.962507\n",
      "4    may   90.761062  41547.922030\n",
      "5    jun  123.410029  51058.384633\n",
      "6    jul  160.613569  68272.853188\n",
      "7    aug  195.982301  67975.674242\n",
      "8    sep  237.050147  68730.580318\n",
      "9    oct  300.430678  75462.660121\n",
      "10   nov  353.395280  67842.724948\n",
      "11   dec  444.483776  72761.605505\n",
      "Promedio de minutos Surf\n",
      "165.78736479842675\n",
      "/////////////////////////////////////////////\n",
      "\n",
      "Promedio y Varianza Ultimate Duracion llamadas\n",
      "   month        mean           var\n",
      "0    jan    4.807453   1223.531444\n",
      "1    feb   17.527950   9684.638276\n",
      "2    mar   22.677019  10686.607531\n",
      "3    apr   43.937888  17311.808618\n",
      "4    may   73.173913  32196.357065\n",
      "5    jun  108.291925  40842.107997\n",
      "6    jul  156.503106  68913.089053\n",
      "7    aug  185.850932  67527.377640\n",
      "8    sep  233.701863  78247.098059\n",
      "9    oct  296.757764  81589.159705\n",
      "10   nov  351.180124  80940.323602\n",
      "11   dec  430.583851  70952.344488\n",
      "Promedio de minutos Ultimate\n",
      "160.416149068323\n"
     ]
    }
   ],
   "source": [
    "# Calcula la media y la varianza de la duración mensual de llamadas.\n",
    "#general\n",
    "stats_by_month = data_complete_clean.groupby('month')['minutes'].agg(['mean', 'var']).reset_index()\n",
    "stats_by_month['month'] = pd.Categorical(\n",
    "    stats_by_month['month'],\n",
    "    categories=month_cols,\n",
    "    ordered=True\n",
    ")\n",
    "print('Promedio y Varianza General Duracion llamadas')\n",
    "print(stats_by_month)\n",
    "print('/////////////////////////////////////////////')\n",
    "print()\n",
    "mean_minutes = data_complete_clean.groupby('plan')['minutes'].mean() # obtener media de minutos\n",
    "# Mean and Var Surf\n",
    "surf_data = data_complete_clean[data_complete_clean['plan'] == 'surf']\n",
    "surf_stats = surf_data.groupby('month')['minutes'].agg(['mean', 'var']).reset_index()\n",
    "surf_stats.columns = ['month', 'mean', 'var']\n",
    "surf_stats['month'] = pd.Categorical(\n",
    "    surf_stats['month'],\n",
    "    categories = month_cols,\n",
    "    ordered = True\n",
    "    )\n",
    "print('Promedio y Varianza Surf Duracion llamadas')\n",
    "print(surf_stats)\n",
    "print('Promedio de minutos Surf')\n",
    "surf_mean = mean_minutes.loc['surf']\n",
    "print(surf_mean) # show mean\n",
    "print('/////////////////////////////////////////////')\n",
    "print()\n",
    "# Mean and Var Ultimate\n",
    "ultimate_data = data_complete_clean[data_complete_clean['plan'] == 'ultimate']\n",
    "ultimate_stats = ultimate_data.groupby('month')['minutes'].agg(['mean', 'var']).reset_index()\n",
    "ultimate_stats.columns = ['month', 'mean', 'var']\n",
    "ultimate_stats['month'] = pd.Categorical(\n",
    "    ultimate_stats['month'],\n",
    "    categories = month_cols,\n",
    "    ordered = True\n",
    "    )\n",
    "print('Promedio y Varianza Ultimate Duracion llamadas')\n",
    "print(ultimate_stats)\n",
    "print('Promedio de minutos Ultimate')\n",
    "ultimate_mean = mean_minutes.loc['ultimate']\n",
    "print(ultimate_mean) # show mean\n"
   ]
  },
  {
   "cell_type": "code",
   "execution_count": 42,
   "metadata": {
    "id": "nZzoRUKc0q1K"
   },
   "outputs": [
    {
     "name": "stdout",
     "output_type": "stream",
     "text": [
      "Mediana Surf\n",
      "0.0\n"
     ]
    },
    {
     "data": {
      "image/png": "[encoded data removed]",
      "text/plain": [
       "<Figure size 640x480 with 1 Axes>"
      ]
     },
     "metadata": {},
     "output_type": "display_data"
    }
   ],
   "source": [
    "# Traza un diagrama de caja para visualizar la distribución de la duración mensual de llamadas\n",
    "# SURF\n",
    "surf_data = surf_data[surf_data['minutes'] > 0]\n",
    "dataset_surf = surf_data['minutes']\n",
    "sns.boxplot(dataset_surf)\n",
    "plt.title(\"Distribución de Minutos Mensuales Surf\", fontsize=14)\n",
    "plt.xlabel(\"Surf\", fontsize=12)\n",
    "plt.ylabel(\"Minutos\", fontsize=12)\n",
    "plt.xticks(fontsize=11)\n",
    "plt.tight_layout()\n",
    "median_minutes = data_complete_clean.groupby('plan')['minutes'].median()\n",
    "print('Mediana Surf')\n",
    "print(median_minutes.loc['surf'])\n",
    "\n"
   ]
  },
  {
   "cell_type": "code",
   "execution_count": 43,
   "metadata": {},
   "outputs": [
    {
     "name": "stdout",
     "output_type": "stream",
     "text": [
      "Mediana Ultimate\n",
      "0.0\n"
     ]
    },
    {
     "data": {
      "image/png": "[encoded data removed]",
      "text/plain": [
       "<Figure size 640x480 with 1 Axes>"
      ]
     },
     "metadata": {},
     "output_type": "display_data"
    }
   ],
   "source": [
    "# ULTIMATE\n",
    "ultimate_data = ultimate_data[ultimate_data['minutes'] > 0]\n",
    "dataset_ultimate = ultimate_data['minutes']\n",
    "sns.boxplot(dataset_ultimate)\n",
    "plt.title(\"Distribución de Minutos Mensuales Ultimate\", fontsize=14)\n",
    "plt.xlabel(\"Ultimate\", fontsize=12)\n",
    "plt.ylabel(\"Minutos\", fontsize=12)\n",
    "print('Mediana Ultimate')\n",
    "print(median_minutes.loc['ultimate'])"
   ]
  },
  {
   "cell_type": "code",
   "execution_count": 44,
   "metadata": {},
   "outputs": [
    {
     "data": {
      "image/png": "[encoded data removed]",
      "text/plain": [
       "<Figure size 1000x600 with 1 Axes>"
      ]
     },
     "metadata": {},
     "output_type": "display_data"
    }
   ],
   "source": [
    "plt.figure(figsize=(10, 6))\n",
    "sns.set_style(\"whitegrid\")\n",
    "\n",
    "# Crea diagrama de caja de ambos dataset\n",
    "data_complete_clean = data_complete_clean[data_complete_clean['minutes'] > 0] # Eliminar 0 de clientes no activos\n",
    "\n",
    "sns.boxplot(\n",
    "    data=data_complete_clean,\n",
    "    x=\"plan\",\n",
    "    y=\"minutes\",\n",
    "    palette={\"surf\": \"#3B5055\", \"ultimate\": \"#FFB26F\"},\n",
    "\n",
    ")\n",
    "\n",
    "plt.title(\"Distribución de Duracion Mensual por Plan\", fontsize=14)\n",
    "plt.xlabel(\"Plan\", fontsize=12)\n",
    "plt.ylabel(\"Minutos\", fontsize=12)\n",
    "plt.xticks(fontsize=11)\n",
    "plt.tight_layout()\n",
    "\n",
    "# Mostrar\n",
    "plt.show()"
   ]
  },
  {
   "cell_type": "markdown",
   "metadata": {
    "id": "r627zBO50q1K"
   },
   "source": [
    "[Elabora las conclusiones sobre el comportamiento de los usuarios con respecto a las llamadas. ¿Su comportamiento varía en función del plan?]\n",
    "1.   Los promedios de duracion de llamada de ambos planes son practicamente iguales.\n",
    "2.    Sin embargo Surf tiene una varianza mas alta y tiene mas llamadas excepecionalmente largas."
   ]
  },
  {
   "cell_type": "markdown",
   "metadata": {},
   "source": [
    "<div class=\"alert alert-block alert-success\">\n",
    "<b>Comentario del revisor (1ra Iteracion)</b> <a class=“tocSkip”></a>\n",
    "\n",
    "Muy bien, revisar por cada grupo y plan deja gráficas mucho más completas de entender\n",
    "</div>"
   ]
  },
  {
   "cell_type": "markdown",
   "metadata": {
    "id": "8idKy8Wh0q1L"
   },
   "source": [
    "### Mensajes"
   ]
  },
  {
   "cell_type": "code",
   "execution_count": 45,
   "metadata": {
    "id": "NXLxiTit0q1L"
   },
   "outputs": [
    {
     "name": "stdout",
     "output_type": "stream",
     "text": [
      "Promedio y Varianza Mensajes general por mes\n",
      "   month       mean          var\n",
      "0    jan  13.833333   238.966667\n",
      "1    feb  16.466667   449.980952\n",
      "2    mar  16.971429   441.734454\n",
      "3    apr  18.774648   511.148491\n",
      "4    may  26.538462   984.716953\n",
      "5    jun  26.957447   904.341033\n",
      "6    jul  28.938547   943.316427\n",
      "7    aug  31.826087  1107.716347\n",
      "8    sep  32.711191  1026.148171\n",
      "9    oct  35.407738  1265.722806\n",
      "10   nov  34.218905  1130.510564\n",
      "11   dec  40.439130  1505.584522\n",
      "/////////////////////////////////////////////\n",
      "\n",
      "Promedio y Varianza Mensajes por Plan y Mes\n",
      "   month      plan       mean          var\n",
      "0    jan      surf  10.500000   220.500000\n",
      "1    jan  ultimate  15.500000   313.666667\n",
      "2    feb      surf  12.000000   386.000000\n",
      "3    feb  ultimate  23.166667   552.566667\n",
      "4    mar      surf  15.260870   346.565217\n",
      "5    mar  ultimate  20.250000   654.386364\n",
      "6    apr      surf  17.400000   501.591837\n",
      "7    apr  ultimate  22.047619   544.147619\n",
      "8    may      surf  24.386667   862.916036\n",
      "9    may  ultimate  32.103448  1297.310345\n",
      "10   jun      surf  25.281250   924.520066\n",
      "11   jun  ultimate  30.533333   862.118182\n",
      "12   jul      surf  27.025000   931.671639\n",
      "13   jul  ultimate  32.830508   960.488019\n",
      "14   aug      surf  28.855346  1046.681474\n",
      "15   aug  ultimate  38.478873  1196.367404\n",
      "16   sep      surf  30.376963  1002.825572\n",
      "17   sep  ultimate  37.895349  1050.918331\n",
      "18   oct      surf  33.411255  1279.434481\n",
      "19   oct  ultimate  39.800000  1219.238462\n",
      "20   nov      surf  32.115523  1070.696751\n",
      "21   nov  ultimate  38.880000  1240.977419\n",
      "22   dec      surf  38.212219  1474.206431\n",
      "23   dec  ultimate  45.087248  1549.309904\n",
      "/////////////////////////////////////////////\n",
      "Promedio de mensajes Surf\n",
      "30.92\n",
      "Promedio de mensajes Ultimate\n",
      "37.78\n",
      "Media y Var por plan\n",
      "       plan  media_mensajes  varianza_mensajes\n",
      "0      surf       30.917746        1132.063872\n",
      "1  ultimate       37.776685        1209.945841\n"
     ]
    },
    {
     "data": {
      "image/png": "[encoded data removed]",
      "text/plain": [
       "<Figure size 1200x600 with 1 Axes>"
      ]
     },
     "metadata": {},
     "output_type": "display_data"
    }
   ],
   "source": [
    "# Comprara el número de mensajes que tienden a enviar cada mes los usuarios de cada plan\n",
    "# Mean y Var\n",
    "stats_messages = data_complete_clean.groupby('month')['messages'].agg(['mean', 'var']).reset_index()\n",
    "stats_messages.columns = ['month', 'mean', 'var']\n",
    "stats_messages['month'] = pd.Categorical(\n",
    "    stats_messages['month'],\n",
    "    categories=month_cols,\n",
    "    ordered=True\n",
    ")\n",
    "stats_messages = stats_messages.sort_values('month')\n",
    "print('Promedio y Varianza Mensajes general por mes')\n",
    "print(stats_messages)\n",
    "print('/////////////////////////////////////////////')\n",
    "print()\n",
    "stats_plan_month = data_complete_clean.groupby(['month', 'plan'])['messages'].agg(['mean', 'var']).reset_index()\n",
    "print('Promedio y Varianza Mensajes por Plan y Mes')\n",
    "print(stats_plan_month)\n",
    "print('/////////////////////////////////////////////')\n",
    "mean_messages = data_complete_clean.groupby('plan')['messages'].mean()\n",
    "print('Promedio de mensajes Surf')\n",
    "print(mean_messages.loc['surf'].round(2))\n",
    "print('Promedio de mensajes Ultimate')\n",
    "print(mean_messages.loc['ultimate'].round(2))\n",
    "#######################################\n",
    "# Comprara el número de mensajes que tienden a enviar cada mes los usuarios de cada plan HISTOGRAMA\n",
    "surf_data = data_complete_clean[(data_complete_clean[\"plan\"] == \"surf\") & (data_complete_clean[\"messages\"] > 0)] # Excluir 0\n",
    "\n",
    "ultimate_data = data_complete_clean[(data_complete_clean[\"plan\"] == \"ultimate\") & (data_complete_clean[\"messages\"] > 0)] # Excluir 0\n",
    "\n",
    "# Calcular rango global (excluyendo 0)\n",
    "global_min = min(surf_data['messages'].min(), ultimate_data['messages'].min())\n",
    "global_max = max(surf_data['messages'].max(), ultimate_data['messages'].max())\n",
    "\n",
    "# Definir bins uniformes\n",
    "uniform_bins = np.linspace(global_min, global_max, 40)\n",
    "\n",
    "# Configurar el gráfico\n",
    "plt.figure(figsize=(12, 6))\n",
    "sns.set_style(\"whitegrid\")\n",
    "\n",
    "# Histograma  Surf\n",
    "sns.histplot(\n",
    "    surf_data['messages'],\n",
    "    bins=uniform_bins,\n",
    "    color='#3B5055',\n",
    "    alpha=0.7,\n",
    "    label='Surf',\n",
    "    kde=True\n",
    ")\n",
    "\n",
    "# Histograma  Ultimate\n",
    "sns.histplot(\n",
    "    ultimate_data['messages'],\n",
    "    bins=uniform_bins,\n",
    "    color='#FFB26F',\n",
    "    alpha=0.6,\n",
    "    label='Ultimate',\n",
    "    kde=True\n",
    ")\n",
    "\n",
    "# Personalizar\n",
    "plt.title('Distribución de Mensajes por Plan', fontsize=14)\n",
    "plt.xlabel('Cantidad de Mensajes', fontsize=12)\n",
    "plt.ylabel('Frecuencia', fontsize=12)\n",
    "plt.legend(title='Plan')\n",
    "plt.xlim(global_min, global_max)\n",
    "plt.tight_layout()\n",
    "##### Stats\n",
    "stats_plan = data_complete_clean.groupby(\"plan\")[\"messages\"].agg(\n",
    "    media_mensajes=\"mean\",\n",
    "    varianza_mensajes=\"var\"\n",
    ").reset_index()\n",
    "print('Media y Var por plan')\n",
    "print(stats_plan)\n",
    "plt.show()"
   ]
  },
  {
   "cell_type": "code",
   "execution_count": 46,
   "metadata": {
    "id": "GRI_R7xF0q1L"
   },
   "outputs": [],
   "source": [
    "# Compara la cantidad de tráfico de Internet consumido por usuarios por plan\n",
    "###NOTA CREO QUE ESTO VA EN LA SIGUIENTE SECCIÓN###\n"
   ]
  },
  {
   "cell_type": "code",
   "execution_count": null,
   "metadata": {
    "id": "dtFwCGAp0q1M"
   },
   "outputs": [],
   "source": []
  },
  {
   "cell_type": "markdown",
   "metadata": {
    "id": "390SSL480q1M"
   },
   "source": [
    "[Elabora las conclusiones sobre el comportamiento de los usuarios con respecto a los mensajes. ¿Su comportamiento varía en función del plan?]"
   ]
  },
  {
   "cell_type": "markdown",
   "metadata": {
    "id": "42YSypXz0q1M"
   },
   "source": [
    "### Internet"
   ]
  },
  {
   "cell_type": "code",
   "execution_count": 47,
   "metadata": {
    "id": "lSuKPtjh0q1M"
   },
   "outputs": [
    {
     "name": "stdout",
     "output_type": "stream",
     "text": [
      "Media y Var de Uso de internet por mes y plan (GB)\n",
      "   month      plan       mean         var\n",
      "0    jan      surf   5.000000   18.000000\n",
      "1    jan  ultimate   7.250000   14.916667\n",
      "2    feb      surf  12.222222   41.444444\n",
      "3    feb  ultimate  18.000000   41.200000\n",
      "4    mar      surf  13.565217   63.984190\n",
      "5    mar  ultimate  18.416667  138.628788\n",
      "6    apr      surf  12.220000   56.215918\n",
      "7    apr  ultimate  16.333333   85.833333\n",
      "8    may      surf  14.373333   57.020901\n",
      "9    may  ultimate  16.862069   54.194581\n",
      "10   jun      surf  15.489583   48.252522\n",
      "11   jun  ultimate  16.000000   64.045455\n",
      "12   jul      surf  16.875000   61.992647\n",
      "13   jul  ultimate  16.491525   64.254237\n",
      "14   aug      surf  16.955975   71.763872\n",
      "15   aug  ultimate  17.845070   58.047082\n",
      "16   sep      surf  16.544503   47.459851\n",
      "17   sep  ultimate  17.011628   47.258687\n",
      "18   oct      surf  17.411255   59.173612\n",
      "19   oct  ultimate  17.885714   52.082967\n",
      "20   nov      surf  16.382671   51.092162\n",
      "21   nov  ultimate  17.216000   53.041677\n",
      "22   dec      surf  18.093248   62.226761\n",
      "23   dec  ultimate  18.395973   55.497551\n",
      "/////////////////////////////////////////////\n",
      "Media y Var por plan\n",
      "       plan   media_gb  varianza_gb\n",
      "0      surf  16.629534    59.002005\n",
      "1  ultimate  17.393258    57.161586\n",
      "\n"
     ]
    },
    {
     "data": {
      "image/png": "[encoded data removed]",
      "text/plain": [
       "<Figure size 1000x600 with 1 Axes>"
      ]
     },
     "metadata": {},
     "output_type": "display_data"
    }
   ],
   "source": [
    "# Compara la cantidad de tráfico de Internet consumido por usuarios por plan\n",
    "plt.figure(figsize=(10, 6))\n",
    "sns.set_style(\"whitegrid\")\n",
    "\n",
    "# Crear diagrama de caja\n",
    "sns.boxplot(\n",
    "    data=data_complete_clean,\n",
    "    x=\"plan\",\n",
    "    y=\"gb\",\n",
    "    palette={\"surf\": \"#3B5055\", \"ultimate\": \"#FFB26F\"},\n",
    ")\n",
    "\n",
    "# Personalizar\n",
    "plt.title(\"Distribución del Uso de Internet (GB) por Plan\", fontsize=14)\n",
    "plt.xlabel(\"Plan\", fontsize=12)\n",
    "plt.ylabel(\"GB Utilizados 2018\", fontsize=12)\n",
    "plt.xticks(fontsize=11)\n",
    "\n",
    "# Límites de datos incluidos\n",
    "plt.axhline(y=15, color='blue', linestyle='--', linewidth=1, label=\"Límite Surf (15 GB)\")\n",
    "plt.axhline(y=30, color='red', linestyle='--', linewidth=1, label=\"Límite Ultimate (30 GB)\")\n",
    "plt.legend()\n",
    "\n",
    "# Mean y Var\n",
    "\n",
    "stats_month_plan = data_complete_clean.groupby(['month', 'plan'])['gb'].agg(\n",
    "    mean='mean',\n",
    "    var='var'\n",
    ").reset_index()\n",
    "\n",
    "# Convertir 'month' a categórico para orden cronológico\n",
    "stats_month_plan['month'] = pd.Categorical(\n",
    "    stats_month_plan['month'],\n",
    "    categories=month_cols,\n",
    "    ordered=True\n",
    ")\n",
    "\n",
    "# Ordenar por mes y luego por plan\n",
    "stats_month_plan = stats_month_plan.sort_values(['month', 'plan'])\n",
    "\n",
    "# Reorganizar columnas (mes primero, plan después)\n",
    "stats_month_plan = stats_month_plan[['month', 'plan', 'mean', 'var']]\n",
    "print('Media y Var de Uso de internet por mes y plan (GB)')\n",
    "print(stats_month_plan)\n",
    "print('/////////////////////////////////////////////')\n",
    "# Mean y Var por plan\n",
    "stats_gb_plan = data_complete_clean.groupby(\"plan\")[\"gb\"].agg(\n",
    "    media_gb=\"mean\",\n",
    "    varianza_gb=\"var\"\n",
    ").reset_index()\n",
    "print('Media y Var por plan')\n",
    "print(stats_gb_plan)\n",
    "print()\n",
    "# Mostrar el gráfico\n",
    "plt.show()"
   ]
  },
  {
   "cell_type": "code",
   "execution_count": 48,
   "metadata": {
    "id": "wnh8jYXi0q1N"
   },
   "outputs": [
    {
     "data": {
      "image/png": "[encoded data removed]",
      "text/plain": [
       "<Figure size 640x480 with 1 Axes>"
      ]
     },
     "metadata": {},
     "output_type": "display_data"
    }
   ],
   "source": [
    "# COMPARACION POR MES\n",
    "### REVISAR\n",
    "data_complete_clean = data_complete_clean[data_complete_clean['gb'] > 0] # Eliminate 0, clientes inactivos\n",
    "sns.boxplot(\n",
    "    data=data_complete_clean,\n",
    "    x=\"month\",\n",
    "    y=\"gb\",\n",
    "    hue=\"plan\",\n",
    "    palette={\"surf\": \"#3B5055\", \"ultimate\": \"#FFB26F\"},\n",
    "    order = month_cols,\n",
    "\n",
    ")\n",
    "\n",
    "# Edicion\n",
    "plt.title(\"Distribución de Tráfico de internet Mensual por Plan\", fontsize=16)\n",
    "plt.xlabel(\"Mes\", fontsize=12)\n",
    "plt.ylabel(\"Cantidad de GB\", fontsize=12)\n",
    "plt.xticks(rotation=45, fontsize=10)\n",
    "plt.legend(title=\"Plan\", loc=\"upper right\")\n",
    "\n",
    "\n",
    "plt.show()"
   ]
  },
  {
   "cell_type": "markdown",
   "metadata": {
    "id": "UN9zwuMP0q1N"
   },
   "source": [
    "[Elabora las conclusiones sobre cómo los usuarios tienden a consumir el tráfico de Internet. ¿Su comportamiento varía en función del plan?]\n",
    "1.  La media de uso del plan Surf (16.79) está por **encima** del limite del plan (15 gb) **11.9%**\n",
    "2.  La media de uso del plan Ultimate (17.39) está muy por **debajo** del limite (30 gb) **42%**\n",
    "3.  El plan Surf tiene un valor extraordinario sobre los 70gb\n",
    "4.  Se usan mas GB en promedio en el plan Ultimate, pero se sobrepasa el limite del plan, mas en Surf."
   ]
  },
  {
   "cell_type": "markdown",
   "metadata": {
    "id": "tCijq3260q1N"
   },
   "source": [
    "## Ingreso"
   ]
  },
  {
   "cell_type": "markdown",
   "metadata": {
    "id": "9nq5IAcy0q1O"
   },
   "source": [
    "[Del mismo modo que has estudiado el comportamiento de los usuarios, describe estadísticamente los ingresos de los planes.]"
   ]
  },
  {
   "cell_type": "code",
   "execution_count": 49,
   "metadata": {
    "id": "tz-dq_V00q1O"
   },
   "outputs": [
    {
     "name": "stdout",
     "output_type": "stream",
     "text": [
      "Media y Var de Ingreso por mes y plan\n",
      "   month      plan  media_total  varianza_total\n",
      "0    jan      surf        20.00            0.00\n",
      "1    jan  ultimate        70.00            0.00\n",
      "2    feb      surf        34.40          428.28\n",
      "3    feb  ultimate        70.00            0.00\n",
      "4    mar      surf        45.94         1512.02\n",
      "5    mar  ultimate        74.67          145.52\n",
      "6    apr      surf        41.13         1214.82\n",
      "7    apr  ultimate        73.00          120.40\n",
      "8    may      surf        48.75         2015.78\n",
      "9    may  ultimate        70.72           15.21\n",
      "10   jun      surf        50.16         2027.21\n",
      "11   jun  ultimate        71.71           78.30\n",
      "12   jul      surf        63.19         2975.73\n",
      "13   jul  ultimate        71.90          104.47\n",
      "14   aug      surf        65.20         3663.55\n",
      "15   aug  ultimate        72.86          154.81\n",
      "16   sep      surf        57.32         2099.87\n",
      "17   sep  ultimate        72.03           75.94\n",
      "18   oct      surf        65.57         3163.70\n",
      "19   oct  ultimate        72.33          171.19\n",
      "20   nov      surf        57.37         2270.43\n",
      "21   nov  ultimate        71.74           96.15\n",
      "22   dec      surf        69.32         3956.60\n",
      "23   dec  ultimate        73.05          205.48\n",
      "/////////////////////////////////////////////\n",
      "Media y Var de Ingreso Global\n",
      "       plan  media_global  varianza_global\n",
      "0      surf         60.52          2880.38\n",
      "1  ultimate         72.28           129.04\n"
     ]
    }
   ],
   "source": [
    "# Comparacion de ingresos totales por mes\n",
    "#print(data_complete_clean) #revision de df\n",
    "#print(data_complete_clean.info())\n",
    "\n",
    "data_filtered = data_complete_clean[data_complete_clean[\"total_cost\"] > 0] # Filtrado de clientes activos\n",
    "\n",
    "\n",
    "# Calcular estadísticas mean y var\n",
    "stats_total_cost = (\n",
    "    data_filtered\n",
    "    .groupby(['month', 'plan'])['total_cost']\n",
    "    .agg(media_total='mean', varianza_total='var')\n",
    "    .reset_index()\n",
    ")\n",
    "\n",
    "# Ordenar por mes y plan\n",
    "stats_total_cost['month'] = pd.Categorical(\n",
    "    stats_total_cost['month'],\n",
    "    categories=month_cols,\n",
    "    ordered=True\n",
    ")\n",
    "stats_total_cost = stats_total_cost.sort_values(['month', 'plan'])\n",
    "print('Media y Var de Ingreso por mes y plan')\n",
    "print(stats_total_cost.round(2)) # Redondeo a dos decimales\n",
    "print('/////////////////////////////////////////////')\n",
    "# Calcular estadísticas mean y var globales\n",
    "stats_total_cost = (\n",
    "    data_filtered\n",
    "    .groupby(['plan'])['total_cost']\n",
    "    .agg(media_global='mean', varianza_global='var')\n",
    "    .reset_index()\n",
    ")\n",
    "print('Media y Var de Ingreso Global')\n",
    "print(stats_total_cost.round(2))"
   ]
  },
  {
   "cell_type": "code",
   "execution_count": 50,
   "metadata": {
    "id": "0Y1v8ZUz0q1P"
   },
   "outputs": [
    {
     "name": "stdout",
     "output_type": "stream",
     "text": [
      "Total de ingreso del plan Surf: $92542.09\n",
      "Total de ingreso del plan Ultimate: $51464.00\n",
      "Media y Var de Ingreso Global\n",
      "       plan  media_global  varianza_global\n",
      "0      surf         60.52          2880.38\n",
      "1  ultimate         72.28           129.04\n"
     ]
    },
    {
     "data": {
      "image/png": "[encoded data removed]",
      "text/plain": [
       "<Figure size 1200x600 with 1 Axes>"
      ]
     },
     "metadata": {},
     "output_type": "display_data"
    }
   ],
   "source": [
    "# Histograma de distribucion de costo total por plan\n",
    "\n",
    "# Filtrar clientes activos\n",
    "data_filtered = data_complete_clean[data_complete_clean[\"total_cost\"] > 0]\n",
    "\n",
    "# Calcular la media de cada plan\n",
    "mean_surf = data_filtered[data_filtered[\"plan\"] == \"surf\"][\"total_cost\"].mean()\n",
    "mean_ultimate = data_filtered[data_filtered[\"plan\"] == \"ultimate\"][\"total_cost\"].mean()\n",
    "# Calcular el total de ingreso de cada plan\n",
    "total_cost_surf = data_filtered[data_filtered[\"plan\"] == \"surf\"][\"total_cost\"].sum()\n",
    "total_cost_ultimate = data_filtered[data_filtered[\"plan\"] == \"ultimate\"][\"total_cost\"].sum()\n",
    "print(f\"Total de ingreso del plan Surf: ${total_cost_surf:.2f}\")\n",
    "print(f\"Total de ingreso del plan Ultimate: ${total_cost_ultimate:.2f}\")\n",
    "# Bins consistentes\n",
    "global_min = data_filtered[\"total_cost\"].min()\n",
    "global_max = data_filtered[\"total_cost\"].max()\n",
    "uniform_bins = np.linspace(global_min, global_max, 20)\n",
    "\n",
    "# Configurar el gráfico\n",
    "plt.figure(figsize=(12, 6))\n",
    "sns.set_style(\"whitegrid\")\n",
    "\n",
    "# Histograma combinado\n",
    "hist = sns.histplot(\n",
    "    data=data_filtered,\n",
    "    x=\"total_cost\",\n",
    "    hue=\"plan\",\n",
    "    bins=uniform_bins,\n",
    "    palette={\"surf\": \"#3B5055\", \"ultimate\": \"#FFB26F\"},\n",
    "    alpha=0.6,\n",
    "    element=\"step\"\n",
    ")\n",
    "\n",
    "# Añadir lineas verticales para las medias\n",
    "plt.axvline(mean_surf, color=\"#3B5055\", linestyle=\"--\", linewidth=2, label=\"Media Surf\")\n",
    "plt.axvline(mean_ultimate, color=\"#FFB26F\", linestyle=\"--\", linewidth=2, label=\"Media Ultimate\")\n",
    "\n",
    "# Personalización\n",
    "plt.title(\"Distribución del Costo Total por Plan\", fontsize=14)\n",
    "plt.xlabel(\"Costo Total (USD)\", fontsize=12)\n",
    "plt.ylabel(\"Frecuencia\", fontsize=12)\n",
    "plt.xlim(global_min, global_max)\n",
    "\n",
    "# Combinar leyendas (histograma y lineas)\n",
    "handles, labels = hist.get_legend_handles_labels()\n",
    "plt.legend(handles=handles + hist.get_lines()[:2],\n",
    "           labels=labels,\n",
    "           title=\"Plan\")\n",
    "print('Media y Var de Ingreso Global')\n",
    "print(stats_total_cost.round(2))\n",
    "plt.tight_layout()\n",
    "plt.show()"
   ]
  },
  {
   "cell_type": "code",
   "execution_count": 51,
   "metadata": {
    "id": "bYmwxyVh0q1P"
   },
   "outputs": [
    {
     "data": {
      "image/png": "[encoded data removed]",
      "text/plain": [
       "<Figure size 1000x600 with 1 Axes>"
      ]
     },
     "metadata": {},
     "output_type": "display_data"
    }
   ],
   "source": [
    "# distribucion del costo box\n",
    "\n",
    "# Filtrar valores de clientes activos\n",
    "data_filtered = data_complete_clean[data_complete_clean[\"total_cost\"] > 0]\n",
    "\n",
    "# Calcular Q1, Q3 e IQR para cada plan\n",
    "iqr_data = (\n",
    "    data_filtered\n",
    "    .groupby(\"plan\")[\"total_cost\"]\n",
    "    .agg(\n",
    "        Q1=lambda x: x.quantile(0.25),\n",
    "        Q3=lambda x: x.quantile(0.75),\n",
    "        IQR=lambda x: x.quantile(0.75) - x.quantile(0.25)\n",
    "    )\n",
    "    .reset_index()\n",
    ")\n",
    "\n",
    "# Configurar el gráfico\n",
    "plt.figure(figsize=(10, 6))\n",
    "sns.set_style(\"whitegrid\")\n",
    "\n",
    "# Crear diagrama de caja\n",
    "sns.boxplot(\n",
    "    data=data_filtered,\n",
    "    x=\"plan\",\n",
    "    y=\"total_cost\",\n",
    "    palette={\"surf\": \"#3B5055\", \"ultimate\": \"#FFB26F\"},\n",
    "    showfliers=True\n",
    ")\n",
    "\n",
    "# Personalización\n",
    "plt.title(\"Distribución del Costo Total por Plan\", fontsize=14)\n",
    "plt.xlabel(\"Plan\", fontsize=12)\n",
    "plt.ylabel(\"Costo Total (USD)\", fontsize=12)\n",
    "plt.xticks(fontsize=11)\n",
    "\n",
    "# Añadir líneas horizontales para las medias y leyendas del IQR\n",
    "mean_surf = data_filtered[data_filtered[\"plan\"] == \"surf\"][\"total_cost\"].mean()\n",
    "mean_ultimate = data_filtered[data_filtered[\"plan\"] == \"ultimate\"][\"total_cost\"].mean()\n",
    "\n",
    "# Crear textos para la leyenda\n",
    "legend_labels = [\n",
    "    f\"Media Surf: ${mean_surf:.2f}\",\n",
    "    f\"Media Ultimate: ${mean_ultimate:.2f}\",\n",
    "    f\"Surf IQR: ${iqr_data[iqr_data['plan'] == 'surf']['IQR'].values[0]:.2f} (Q1: ${iqr_data[iqr_data['plan'] == 'surf']['Q1'].values[0]:.2f}, Q3: ${iqr_data[iqr_data['plan'] == 'surf']['Q3'].values[0]:.2f})\",\n",
    "    f\"Ultimate IQR: ${iqr_data[iqr_data['plan'] == 'ultimate']['IQR'].values[0]:.2f} (Q1: ${iqr_data[iqr_data['plan'] == 'ultimate']['Q1'].values[0]:.2f}, Q3: ${iqr_data[iqr_data['plan'] == 'ultimate']['Q3'].values[0]:.2f})\"\n",
    "]\n",
    "\n",
    "# Añadir líneas y leyendas\n",
    "plt.axhline(mean_surf, color=\"#1f77b4\", linestyle=\"--\", linewidth=1)\n",
    "plt.axhline(mean_ultimate, color=\"#ff7f0e\", linestyle=\"--\", linewidth=1)\n",
    "plt.legend(handles=[\n",
    "    plt.Line2D([], [], color=\"#1f77b4\", linestyle=\"--\", label=legend_labels[0]),\n",
    "    plt.Line2D([], [], color=\"#ff7f0e\", linestyle=\"--\", label=legend_labels[1]),\n",
    "    plt.Line2D([], [], color=\"gray\", linestyle=\"None\", label=legend_labels[2]),\n",
    "    plt.Line2D([], [], color=\"gray\", linestyle=\"None\", label=legend_labels[3]),\n",
    "], loc=\"upper right\")\n",
    "\n",
    "plt.tight_layout()\n",
    "plt.show()"
   ]
  },
  {
   "cell_type": "markdown",
   "metadata": {
    "id": "KAFidcXZ0q1P"
   },
   "source": [
    "[Elabora las conclusiones sobre cómo difiere el ingreso entre los planes.]\n",
    "1. La media de pago del Plan **Surf** , es de 60.52 usd, que es 40.52 usd más que el precio de listado (20.00 usd), es decir ligeramente mas del 300% del valor original.  \n",
    "2. La media de pago del Plan **Ultimate** , es de 72.28 usd que es 2.28 usd más que el precio de listado (70.00 usd), es decir 3.25% mas del valor original.  \n",
    "3. La varianza de pagos del plan Surf es muy alta y muestra muchos valores fuera del rango intercuartílico.  \n",
    "4. La varianza de pagos del plan Ultimate es mas baja, con baja dispersion en el IQR y con pocos valores fuera del rango intercuartílico."
   ]
  },
  {
   "cell_type": "markdown",
   "metadata": {},
   "source": [
    "<div class=\"alert alert-block alert-success\">\n",
    "<b>Comentario del revisor (1ra Iteracion)</b> <a class=“tocSkip”></a>\n",
    "\n",
    "Correcto, trabajaste muy bien las gráficas y redactaste su respectiva conclusión de cada sección dejando así un proceso de análisis mucho más sencillo de seguir\n",
    "</div>"
   ]
  },
  {
   "cell_type": "markdown",
   "metadata": {
    "id": "ajJ7VKeI0q1Q"
   },
   "source": [
    "## Prueba las hipótesis estadísticas"
   ]
  },
  {
   "cell_type": "markdown",
   "metadata": {
    "id": "AdXAZ-yL0q1Q"
   },
   "source": [
    "[Prueba la hipótesis de que son diferentes los ingresos promedio procedentes de los usuarios de los planes de llamada Ultimate y Surf.]"
   ]
  },
  {
   "cell_type": "markdown",
   "metadata": {
    "id": "IQwa_hsh0q1Q"
   },
   "source": [
    "[Elabora las hipótesis nula y alternativa, escoge la prueba estadística, determina el valor alfa.]"
   ]
  },
  {
   "cell_type": "code",
   "execution_count": 52,
   "metadata": {
    "id": "nFoPNlPq0q1R"
   },
   "outputs": [
    {
     "name": "stdout",
     "output_type": "stream",
     "text": [
      "H₀: Hay diferencia significativa en costos promedio.\n",
      "H₁: NO hay diferencia significativa en costos promedio.\n",
      "t-statistic: -5.784351\n",
      "p-value: 0.00000001\n",
      "Rechazar H₁. Hay diferencia significativa en costos promedio. p_value < alpha.\n"
     ]
    }
   ],
   "source": [
    "# Prueba las hipótesis\n",
    "#print(data_complete_clean)\n",
    "#print(data_complete_clean.info())\n",
    "print(\"H₀: Hay diferencia significativa en costos promedio.\")\n",
    "print(\"H₁: NO hay diferencia significativa en costos promedio.\")\n",
    "# Filter data\n",
    "surf_total = data_complete_clean[(data_complete_clean['plan'] == 'surf') & (data_complete_clean['total_cost'] > 0)]['total_cost']\n",
    "\n",
    "ultimate_total = data_complete_clean[(data_complete_clean['plan'] == 'ultimate') & (data_complete_clean['total_cost'] > 0)]['total_cost']\n",
    "\n",
    "# Perform t-test\n",
    "t_stat, p_value = st.ttest_ind(surf_total, ultimate_total)\n",
    "\n",
    "# Results with alpha = 0.05\n",
    "print(f\"t-statistic: {t_stat:.6f}\")\n",
    "print(f\"p-value: {p_value:.8f}\")\n",
    "alpha = 0.05\n",
    "if p_value < alpha:\n",
    "    print(\"Rechazar H₁. Hay diferencia significativa en costos promedio. p_value < alpha.\")\n",
    "else:\n",
    "    print(\"No hay evidencia para rechazar H₀. p_value > alpha.\")\n"
   ]
  },
  {
   "cell_type": "markdown",
   "metadata": {
    "id": "tCcAruM60q1R"
   },
   "source": [
    "[Prueba la hipótesis de que el ingreso promedio de los usuarios del área NY-NJ es diferente al de los usuarios de otras regiones.]"
   ]
  },
  {
   "cell_type": "markdown",
   "metadata": {
    "id": "LsBgitqj0q1R"
   },
   "source": [
    "[Elabora las hipótesis nula y alternativa, escoge la prueba estadística, determina el valor alfa.]"
   ]
  },
  {
   "cell_type": "code",
   "execution_count": null,
   "metadata": {
    "id": "Cqcj7wrZ0q1S"
   },
   "outputs": [
    {
     "name": "stdout",
     "output_type": "stream",
     "text": [
      "H₀: Hay diferencia significativa en costos promedio de los usuarios del área NY-NJ respecto a los usuarios de las demás ciudades.\n",
      "H₁: NO hay diferencia significativa en costos promedio entre los usuarios del área NY-NJ respecto a los usuarios de las demás ciudades.\n",
      "P-value: 0.04344\n",
      "\n",
      "Conclusion: Rechazar H₁. Diferencia significativa (p < 0.05)\n"
     ]
    },
    {
     "name": "stderr",
     "output_type": "stream",
     "text": [
      "/.venv/lib/python3.9/site-packages/pandas/core/strings/accessor.py:101: UserWarning: This pattern has match groups. To actually get the groups, use str.extract.\n",
      "  return func(self, *args, **kwargs)\n"
     ]
    }
   ],
   "source": [
    "# Prueba las hipótesis\n",
    "# El ingreso promedio de los usuarios del área NY-NJ es diferente al de los usuarios de otras regiones.\n",
    "print(\"H₀: Hay diferencia significativa en costos promedio de los usuarios del área NY-NJ respecto a los usuarios de las demás ciudades.\")\n",
    "print(\"H₁: NO hay diferencia significativa en costos promedio entre los usuarios del área NY-NJ respecto a los usuarios de las demás ciudades.\")\n",
    "# Grupo A: NY/NJ users\n",
    "ny_nj_users = dt_megaline_users[\n",
    "    dt_megaline_users['city'].str.contains(r'\\b(NY|NJ)\\b', regex=True)\n",
    "][['user_id']]\n",
    "\n",
    "# Grupo B: Other cities users\n",
    "other_users = dt_megaline_users[\n",
    "    ~dt_megaline_users['city'].str.contains(r'\\b(NY|NJ)\\b', regex=True)\n",
    "][['user_id']]\n",
    "\n",
    "# Merge data_complete_clean to get total costs\n",
    "group_a = pd.merge(ny_nj_users,\n",
    "                 data_complete_clean[['user_id', 'total_cost']],\n",
    "                 on='user_id',\n",
    "                 how='inner')\n",
    "\n",
    "# Merge data_complete_clean to get total costs\n",
    "group_b = pd.merge(other_users,\n",
    "                 data_complete_clean[['user_id', 'total_cost']],\n",
    "                 on='user_id',\n",
    "                 how='inner')\n",
    "\n",
    "# TTESt\n",
    "t_stat, p_value = st.ttest_ind(group_a['total_cost'], group_b['total_cost'])\n",
    "\n",
    "print(f\"P-value: {p_value:.5f}\")\n",
    "\n",
    "alpha = 0.05\n",
    "if p_value < alpha:\n",
    "    print(\"\\nConclusion: Rechazar H₁. Diferencia significatia (p < 0.05)\")\n",
    "else:\n",
    "    print(\"\\nConclusion: No hay evidencia para rechazar H₀. No hay diferencia significativa (p ≥ 0.05)\")\n",
    "\n"
   ]
  },
  {
   "cell_type": "markdown",
   "metadata": {},
   "source": [
    "<div class=\"alert alert-block alert-success\">\n",
    "<b>Comentario del revisor (1ra Iteracion)</b> <a class=“tocSkip”></a>\n",
    "\n",
    "Correcto, se aplicaron las pruebas estadísticas de manera adecuada. Este es un paso importante para cuando quieras comprobar que las diferencias observadas son reales y no sólo causa de ruido en los datos, con esto tienes una comprobación matemática de esto\n",
    "</div>"
   ]
  },
  {
   "cell_type": "markdown",
   "metadata": {
    "id": "bbTR8UQO0q1T"
   },
   "source": [
    "## Conclusión general\n",
    "\n",
    "[En esta sección final, enumera tus conclusiones importantes. Asegúrate de que estas abarquen todas las decisiones (suposiciones) importantes que adoptaste y que determinaron la forma elegida para procesar y analizar los datos.]\n",
    "\n",
    "# Llamadas:\n",
    "*   Los promedios de minutos de llamadas en **Surf** y **Ultimate** son similares (437.99 y 435.28 respectivamente). \n",
    "*   Ambos promedios están por debajo del limite del plan. Surf **62 min** y **Ultimate 564.72 min**.\n",
    "* Las distribuciones de ambos datasets son sesgados hacia la derecha. \n",
    "* Surf tiene mas valores fuera del rango intercuartílico.\n",
    "\n",
    "\n",
    "# Mensajes:\n",
    "*   Los promedios de mensajes en **Surf** y **Ultimate** son similares (30.48 y 37.78 respectivamente)\n",
    "*   Ambos promedios están por debajo del limite del plan. Surf **19.52 mensajes** y **Ultimate 962.22 mensajes**. \n",
    "*   Las distribuciones de ambos datasets son sesgados hacia la derecha.\n",
    "*   El plan Ultimate tiene una media de mensajes enviados ligeramente mas alta a la de Surf (23% más) y una varianza mas amplia.\n",
    "*   En general se usan mas mensajes en el plan Ultimate con respecto al Surf.\n",
    "\n",
    "# Internet:\n",
    "*   Los promedios de GB usados en **Surf** y **Ultimate** son 16.79 y 17.39 respectivamente.\n",
    "*   Solo el promedio de GB usados del plan **Surf**, estan por encima del limite del plan, 1.79 GB por encima.\n",
    "*   El promedio de uso de GB de Ultimate esta muy por debajo del limite del plan, 12.61 GB por debajo.\n",
    "*   Hay mas valores excepecionales de uso de GB en el plan **Surf** con respecto al **ultimate**. \n",
    "*  Se usan mas GB en promedio en el plan **Ultimate**, pero se sobrepasa mas el limite del plan, en **Surf**.\n",
    "\n",
    "# Ingreso:\n",
    "*   El total de ingresos del plan **Surf** es de 92,542.09 USD (79% mas con respecto a Ultimate)\n",
    "*   El total de ingresos del plan **Ultimate** es de $51,464.00 USD\n",
    "*   Los promedios de ingreso en **Surf** y **Ultimate** son 60.52  y 72.28 respectivamente.\n",
    "*   Se cobra *mas* por encima del precio inicial del plan **Surf** (40.52 más) es decir ligeramente mas del 300% del valor original; que en el plan **Ultimate** ( solamente 2.28 por encima del precio inicial del plan) es decir 3.25% mas del valor original. \n",
    "*   Se intuye que la varianza amplia de los usos de GB en el plan **Surf** provocan una varianza amplia en el ingreso del plan **Surf**.\n",
    "*   La distrubucion IQR de los ingresos del plan **Ultimate** es mas cerrada en comparacion a la del plan **Surf**. "
   ]
  },
  {
   "cell_type": "code",
   "execution_count": null,
   "metadata": {},
   "outputs": [],
   "source": []
  }
 ],
 "metadata": {
  "ExecuteTimeLog": [
   {
    "duration": 828,
    "start_time": "2021-11-16T09:21:11.304Z"
   },
   {
    "duration": 893,
    "start_time": "2021-11-16T09:21:17.728Z"
   },
   {
    "duration": 1150,
    "start_time": "2021-11-16T09:21:29.568Z"
   },
   {
    "duration": 3,
    "start_time": "2021-11-16T09:24:14.495Z"
   },
   {
    "duration": 120,
    "start_time": "2021-11-16T09:24:46.630Z"
   },
   {
    "duration": 3,
    "start_time": "2021-11-16T09:28:27.882Z"
   },
   {
    "duration": 4,
    "start_time": "2021-11-16T09:29:54.281Z"
   },
   {
    "duration": 3,
    "start_time": "2021-11-16T09:30:45.936Z"
   },
   {
    "duration": 4,
    "start_time": "2021-11-16T09:31:06.300Z"
   },
   {
    "duration": 113,
    "start_time": "2021-11-16T09:31:37.208Z"
   },
   {
    "duration": 143,
    "start_time": "2021-11-16T09:31:48.656Z"
   },
   {
    "duration": 98,
    "start_time": "2021-11-16T09:31:55.678Z"
   },
   {
    "duration": 3,
    "start_time": "2021-11-16T09:32:08.535Z"
   },
   {
    "duration": 111,
    "start_time": "2021-11-16T09:32:10.120Z"
   },
   {
    "duration": 3,
    "start_time": "2021-11-16T09:32:15.732Z"
   },
   {
    "duration": 4,
    "start_time": "2021-11-16T09:32:29.423Z"
   },
   {
    "duration": 3,
    "start_time": "2021-11-16T10:03:03.074Z"
   },
   {
    "duration": 3,
    "start_time": "2021-11-16T10:10:01.288Z"
   },
   {
    "duration": 3,
    "start_time": "2021-11-16T10:10:46.923Z"
   },
   {
    "duration": 121,
    "start_time": "2021-11-16T10:37:46.494Z"
   },
   {
    "duration": 125,
    "start_time": "2021-11-16T10:38:20.632Z"
   },
   {
    "duration": 112,
    "start_time": "2021-11-16T10:46:53.001Z"
   },
   {
    "duration": 110,
    "start_time": "2021-11-16T10:48:25.775Z"
   },
   {
    "duration": 3,
    "start_time": "2021-11-16T10:50:18.720Z"
   },
   {
    "duration": 4,
    "start_time": "2021-11-16T10:50:37.649Z"
   },
   {
    "duration": 2,
    "start_time": "2021-11-16T10:50:51.884Z"
   },
   {
    "duration": 3,
    "start_time": "2021-11-16T10:51:56.237Z"
   },
   {
    "duration": 101,
    "start_time": "2021-11-16T10:53:13.791Z"
   },
   {
    "duration": 3,
    "start_time": "2021-11-16T10:55:59.186Z"
   },
   {
    "duration": 3,
    "start_time": "2021-11-16T10:56:10.751Z"
   },
   {
    "duration": 3,
    "start_time": "2021-11-16T10:56:49.038Z"
   },
   {
    "duration": 3,
    "start_time": "2021-11-16T10:56:49.174Z"
   },
   {
    "duration": 4,
    "start_time": "2021-11-16T10:56:49.414Z"
   },
   {
    "duration": 3,
    "start_time": "2021-11-16T10:56:49.680Z"
   },
   {
    "duration": 3,
    "start_time": "2021-11-16T10:56:50.370Z"
   },
   {
    "duration": 114,
    "start_time": "2021-11-16T10:59:34.518Z"
   },
   {
    "duration": 3,
    "start_time": "2021-11-16T11:01:41.201Z"
   },
   {
    "duration": 116,
    "start_time": "2021-11-16T11:01:48.754Z"
   },
   {
    "duration": 3,
    "start_time": "2021-11-16T11:02:16.685Z"
   },
   {
    "duration": 3,
    "start_time": "2021-11-16T11:02:19.479Z"
   },
   {
    "duration": 3,
    "start_time": "2021-11-16T11:02:47.067Z"
   },
   {
    "duration": 3,
    "start_time": "2021-11-16T11:02:49.353Z"
   },
   {
    "duration": 3,
    "start_time": "2021-11-16T11:03:07.835Z"
   },
   {
    "duration": 3,
    "start_time": "2021-11-16T11:03:07.953Z"
   },
   {
    "duration": 112,
    "start_time": "2021-11-16T11:07:52.072Z"
   },
   {
    "duration": 187,
    "start_time": "2021-11-16T11:09:23.468Z"
   },
   {
    "duration": 4,
    "start_time": "2021-11-16T11:10:01.455Z"
   },
   {
    "duration": 3,
    "start_time": "2021-11-16T11:10:05.069Z"
   },
   {
    "duration": 4,
    "start_time": "2021-11-16T11:10:13.376Z"
   },
   {
    "duration": 3,
    "start_time": "2021-11-16T11:10:14.434Z"
   },
   {
    "duration": 3,
    "start_time": "2021-11-16T11:10:22.853Z"
   },
   {
    "duration": 4,
    "start_time": "2021-11-16T11:27:29.279Z"
   },
   {
    "duration": 4,
    "start_time": "2021-11-16T11:29:08.919Z"
   },
   {
    "duration": 118,
    "start_time": "2021-11-16T11:29:46.703Z"
   },
   {
    "duration": 437,
    "start_time": "2021-11-16T11:36:02.181Z"
   },
   {
    "duration": 157,
    "start_time": "2021-11-16T11:36:14.388Z"
   },
   {
    "duration": 207,
    "start_time": "2021-11-16T11:47:15.898Z"
   },
   {
    "duration": 3,
    "start_time": "2021-11-16T11:53:52.092Z"
   },
   {
    "duration": 3,
    "start_time": "2021-11-16T11:53:52.236Z"
   },
   {
    "duration": 3,
    "start_time": "2021-11-16T11:59:12.005Z"
   },
   {
    "duration": 112,
    "start_time": "2021-11-16T12:00:33.446Z"
   },
   {
    "duration": 3,
    "start_time": "2021-11-16T12:02:14.453Z"
   },
   {
    "duration": 3,
    "start_time": "2021-11-16T12:02:39.512Z"
   },
   {
    "duration": 106,
    "start_time": "2021-11-16T12:03:03.460Z"
   },
   {
    "duration": 3,
    "start_time": "2021-11-17T20:37:21.139Z"
   },
   {
    "duration": 3,
    "start_time": "2021-11-17T20:37:22.229Z"
   },
   {
    "duration": 3,
    "start_time": "2021-11-17T20:38:38.806Z"
   },
   {
    "duration": 3,
    "start_time": "2021-11-17T20:38:41.958Z"
   },
   {
    "duration": 3,
    "start_time": "2021-11-17T20:43:46.551Z"
   },
   {
    "duration": 4,
    "start_time": "2021-11-17T20:58:21.835Z"
   },
   {
    "duration": 3,
    "start_time": "2021-11-17T20:59:21.872Z"
   },
   {
    "duration": 4,
    "start_time": "2021-11-17T20:59:45.352Z"
   },
   {
    "duration": 4,
    "start_time": "2021-11-17T20:59:49.646Z"
   },
   {
    "duration": 159,
    "start_time": "2021-11-17T21:02:26.949Z"
   },
   {
    "duration": 3,
    "start_time": "2021-11-17T21:03:53.461Z"
   },
   {
    "duration": 3,
    "start_time": "2021-11-17T21:03:53.694Z"
   },
   {
    "duration": 3,
    "start_time": "2021-11-17T21:05:28.145Z"
   },
   {
    "duration": 116,
    "start_time": "2021-11-17T21:05:57.787Z"
   },
   {
    "duration": 3,
    "start_time": "2021-11-17T21:06:37.993Z"
   },
   {
    "duration": 3,
    "start_time": "2021-11-17T21:06:38.261Z"
   },
   {
    "duration": 3,
    "start_time": "2021-11-17T21:11:54.358Z"
   },
   {
    "duration": 3,
    "start_time": "2021-11-17T21:12:43.846Z"
   },
   {
    "duration": 4,
    "start_time": "2021-11-17T21:13:08.773Z"
   },
   {
    "duration": 3,
    "start_time": "2021-11-17T21:14:44.441Z"
   },
   {
    "duration": 3,
    "start_time": "2021-11-17T21:15:42.059Z"
   },
   {
    "duration": 4,
    "start_time": "2021-11-17T21:15:51.995Z"
   },
   {
    "duration": 3,
    "start_time": "2021-11-17T21:15:53.923Z"
   },
   {
    "duration": 3,
    "start_time": "2021-11-17T21:15:55.282Z"
   },
   {
    "duration": 3,
    "start_time": "2021-11-17T21:16:28.492Z"
   },
   {
    "duration": 3,
    "start_time": "2021-11-17T21:16:32.603Z"
   },
   {
    "duration": 3,
    "start_time": "2021-11-17T21:17:06.941Z"
   },
   {
    "duration": 98,
    "start_time": "2021-11-17T21:18:05.733Z"
   },
   {
    "duration": 4,
    "start_time": "2021-11-17T21:21:35.255Z"
   },
   {
    "duration": 3,
    "start_time": "2021-11-17T21:21:37.804Z"
   },
   {
    "duration": 4,
    "start_time": "2021-11-17T21:23:06.071Z"
   },
   {
    "duration": 3,
    "start_time": "2021-11-17T21:23:24.799Z"
   },
   {
    "duration": 3,
    "start_time": "2021-11-17T21:23:32.591Z"
   },
   {
    "duration": 98,
    "start_time": "2021-11-17T21:28:31.559Z"
   },
   {
    "duration": 3,
    "start_time": "2021-11-17T21:28:45.448Z"
   },
   {
    "duration": 3,
    "start_time": "2021-11-17T21:29:17.303Z"
   },
   {
    "duration": 3,
    "start_time": "2021-11-17T21:29:29.617Z"
   },
   {
    "duration": 3,
    "start_time": "2021-11-17T21:29:32.681Z"
   },
   {
    "duration": 3,
    "start_time": "2021-11-17T21:36:11.474Z"
   },
   {
    "duration": 3,
    "start_time": "2021-11-17T21:36:14.791Z"
   },
   {
    "duration": 3,
    "start_time": "2021-11-17T21:36:53.943Z"
   },
   {
    "duration": 3,
    "start_time": "2021-11-17T21:36:56.165Z"
   },
   {
    "duration": 4,
    "start_time": "2021-11-17T21:37:16.590Z"
   },
   {
    "duration": 3,
    "start_time": "2021-11-17T21:37:22.702Z"
   },
   {
    "duration": 4,
    "start_time": "2021-11-17T21:38:03.479Z"
   },
   {
    "duration": 3,
    "start_time": "2021-11-17T21:38:08.601Z"
   },
   {
    "duration": 3,
    "start_time": "2021-11-17T21:38:12.928Z"
   },
   {
    "duration": 3,
    "start_time": "2021-11-17T21:38:48.896Z"
   },
   {
    "duration": 2,
    "start_time": "2021-11-17T21:38:49.171Z"
   },
   {
    "duration": 4,
    "start_time": "2021-11-17T21:39:57.889Z"
   },
   {
    "duration": 3,
    "start_time": "2021-11-17T21:39:58.057Z"
   },
   {
    "duration": 3,
    "start_time": "2021-11-17T21:41:20.108Z"
   },
   {
    "duration": 3,
    "start_time": "2021-11-17T21:41:20.629Z"
   },
   {
    "duration": 3,
    "start_time": "2021-11-17T21:42:49.136Z"
   },
   {
    "duration": 3,
    "start_time": "2021-11-17T21:43:15.137Z"
   },
   {
    "duration": 4,
    "start_time": "2021-11-17T21:43:16.766Z"
   },
   {
    "duration": 4,
    "start_time": "2021-11-17T21:43:31.711Z"
   },
   {
    "duration": 3,
    "start_time": "2021-11-17T21:43:36.312Z"
   },
   {
    "duration": 4,
    "start_time": "2021-11-17T21:45:08.825Z"
   },
   {
    "duration": 4,
    "start_time": "2021-11-17T21:45:10.119Z"
   },
   {
    "duration": 4,
    "start_time": "2021-11-17T21:45:13.748Z"
   },
   {
    "duration": 3,
    "start_time": "2021-11-17T21:45:22.219Z"
   },
   {
    "duration": 3,
    "start_time": "2021-11-17T21:45:33.412Z"
   },
   {
    "duration": 2,
    "start_time": "2021-11-17T21:46:01.885Z"
   },
   {
    "duration": 3,
    "start_time": "2021-11-17T21:46:03.628Z"
   },
   {
    "duration": 107,
    "start_time": "2021-11-17T21:47:32.512Z"
   },
   {
    "duration": 103,
    "start_time": "2021-11-17T21:50:36.243Z"
   },
   {
    "duration": 3,
    "start_time": "2021-11-18T06:28:31.440Z"
   },
   {
    "duration": 3,
    "start_time": "2021-11-18T06:29:00.168Z"
   },
   {
    "duration": 3,
    "start_time": "2021-11-18T06:31:27.008Z"
   },
   {
    "duration": 2,
    "start_time": "2021-11-18T06:35:34.288Z"
   },
   {
    "duration": 2,
    "start_time": "2021-11-18T06:38:04.527Z"
   }
  ],
  "colab": {
   "provenance": []
  },
  "kernelspec": {
   "display_name": "base",
   "language": "python",
   "name": "python3"
  },
  "language_info": {
   "codemirror_mode": {
    "name": "ipython",
    "version": 3
   },
   "file_extension": ".py",
   "mimetype": "text/x-python",
   "name": "python",
   "nbconvert_exporter": "python",
   "pygments_lexer": "ipython3",
   "version": "3.12.7"
  },
  "toc": {
   "base_numbering": 1,
   "nav_menu": {},
   "number_sections": true,
   "sideBar": true,
   "skip_h1_title": false,
   "title_cell": "Table of Contents",
   "title_sidebar": "Contents",
   "toc_cell": false,
   "toc_position": {},
   "toc_section_display": true,
   "toc_window_display": true
  }
 },
 "nbformat": 4,
 "nbformat_minor": 4
}
